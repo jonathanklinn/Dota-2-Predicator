{
 "cells": [
  {
   "cell_type": "code",
   "execution_count": 3,
   "metadata": {},
   "outputs": [],
   "source": [
    "import pandas as pd\n",
    "import numpy as np\n",
    "import datetime\n",
    "\n",
    "%matplotlib inline\n",
    "import matplotlib.pyplot as plt\n",
    "plt.style.use('ggplot')\n",
    "\n",
    "\n",
    "from pandas.plotting import scatter_matrix\n",
    "\n",
    "#from cleaning import cleaning_df\n",
    "\n",
    "from sklearn.linear_model import LogisticRegression\n",
    "from sklearn.tree import DecisionTreeClassifier\n",
    "from sklearn.ensemble import RandomForestClassifier, GradientBoostingClassifier\n",
    "from sklearn.model_selection import cross_val_score, GridSearchCV\n",
    "from sklearn.metrics import r2_score, log_loss\n",
    "from sklearn.model_selection import KFold\n",
    "from sklearn.model_selection import train_test_split\n",
    "from sklearn.model_selection import cross_val_score\n",
    "from sklearn.neighbors import KNeighborsClassifier\n",
    "\n",
    "\n",
    "\n",
    "from sklearn.metrics import accuracy_score , confusion_matrix\n",
    "from sklearn.metrics import log_loss, make_scorer\n",
    "\n",
    "\n",
    "\n",
    "\n",
    "from sklearn.pipeline import Pipeline\n",
    "from regression_tools.dftransformers import (\n",
    "    ColumnSelector, Identity,\n",
    "    FeatureUnion, MapFeature,\n",
    "    StandardScaler)\n",
    "\n",
    "\n",
    "\n"
   ]
  },
  {
   "cell_type": "markdown",
   "metadata": {},
   "source": [
    "# Custom Cross Validation Function"
   ]
  },
  {
   "cell_type": "code",
   "execution_count": 4,
   "metadata": {},
   "outputs": [],
   "source": [
    "def crossVal(estimators, X_train, y_train, k=5):\n",
    "    kf = KFold(n_splits = k, shuffle=True)\n",
    "    splits = kf.split(X_train, y_train)\n",
    "    scores = []\n",
    "    \n",
    "    for train_index, test_index in splits:\n",
    "        score = []\n",
    "        for estimator in estimators:\n",
    "            X_train_fold, X_test_fold = X_train.values[train_index], X_train.values[test_index]\n",
    "            y_train_fold, y_test_fold = y_train.values[train_index], y_train.values[test_index]\n",
    "            estimator.fit(X_train_fold, y_train_fold)\n",
    "            train_predicted = estimator.predict(X_train_fold)\n",
    "            test_predicted = estimator.predict(X_test_fold)\n",
    "            score.append(accuracy_score(y_test_fold, test_predicted))            \n",
    "        scores.append(score)\n",
    "    return np.array(scores)"
   ]
  },
  {
   "cell_type": "markdown",
   "metadata": {},
   "source": [
    "# Load Complete Data Frame & Train Test Split"
   ]
  },
  {
   "cell_type": "code",
   "execution_count": 5,
   "metadata": {},
   "outputs": [],
   "source": [
    "matchup_data = pd.read_csv(\"data/matchup_data.csv\")\n",
    "\n",
    "X = matchup_data[['diff_assists', 'diff_denies', 'diff_first_blood', 'diff_gpm', 'diff_healing', 'diff_hero_damage', 'diff_kills', 'diff_last_hits', 'diff_match_duration', 'diff_total_levels', 'diff_tower_damage', 'diff_xpm']]\n",
    "y = matchup_data.radiant_winner\n",
    "\n",
    "X_train, X_test, y_train, y_test = train_test_split(X, y, test_size = 0.33, random_state = 1)\n"
   ]
  },
  {
   "cell_type": "markdown",
   "metadata": {},
   "source": [
    "# Logistic Regression\n"
   ]
  },
  {
   "cell_type": "code",
   "execution_count": 147,
   "metadata": {},
   "outputs": [
    {
     "name": "stdout",
     "output_type": "stream",
     "text": [
      "0.7254901960784313 0.6111111111111112\n"
     ]
    }
   ],
   "source": [
    "lr = LogisticRegression()\n",
    "lr.fit(X_train, y_train)\n",
    "\n",
    "train_predicted = lr.predict(X_train)\n",
    "test_predicted = lr.predict(X_test)\n",
    "\n",
    "lr_Train = accuracy_score(y_train, train_predicted)\n",
    "lr_Test = accuracy_score(y_test, test_predicted)\n",
    "print(lr_Train, lr_Test)\n",
    "\n"
   ]
  },
  {
   "cell_type": "markdown",
   "metadata": {},
   "source": [
    "# K Nearest Neighbor Classifier"
   ]
  },
  {
   "cell_type": "code",
   "execution_count": 148,
   "metadata": {},
   "outputs": [
    {
     "name": "stdout",
     "output_type": "stream",
     "text": [
      "0.4823529411764706 0.5238095238095238\n"
     ]
    }
   ],
   "source": [
    "knn = KNeighborsClassifier(n_neighbors=16)\n",
    "knn.fit(x_train, y_train)\n",
    "\n",
    "train_predicted = knn.predict(X_train)\n",
    "test_predicted = knn.predict(X_test)\n",
    "\n",
    "knn_Train = accuracy_score(y_train, train_predicted)\n",
    "knn_Test = accuracy_score(y_test, test_predicted)\n",
    "print(knn_Train, knn_Test)\n"
   ]
  },
  {
   "cell_type": "code",
   "execution_count": 149,
   "metadata": {},
   "outputs": [
    {
     "name": "stdout",
     "output_type": "stream",
     "text": [
      "[0.5851551956815115, 0.5748313090418353, 0.5802294197031038, 0.5960188933873144, 0.5854251012145749, 0.5724696356275304, 0.582995951417004, 0.5725371120107962, 0.5959514170040485, 0.5881916329284751, 0.6065452091767881, 0.5960188933873145, 0.6221997300944669, 0.6141700404858299, 0.6404858299595141, 0.6456815114709851, 0.6327260458839407, 0.6248313090418354, 0.6327260458839407, 0.6116734143049932, 0.6222672064777328, 0.6089743589743589, 0.608974358974359, 0.6010796221322537, 0.6064102564102565, 0.6064102564102564, 0.6117408906882591, 0.6195006747638326, 0.6300944669365723, 0.6352901484480433]\n"
     ]
    },
    {
     "data": {
      "text/plain": [
       "Text(0,0.5,'Cross-Validated Accuracy')"
      ]
     },
     "execution_count": 149,
     "metadata": {},
     "output_type": "execute_result"
    },
    {
     "data": {
      "image/png": "[encoded data removed]",
      "text/plain": [
       "<Figure size 432x288 with 1 Axes>"
      ]
     },
     "metadata": {},
     "output_type": "display_data"
    }
   ],
   "source": [
    "# Find Best Value for K\n",
    "\n",
    "k_range = list(range(1, 31))\n",
    "k_scores = []\n",
    "\n",
    "for k in k_range:\n",
    "    knn = KNeighborsClassifier(n_neighbors=k)\n",
    "    scores = cross_val_score(knn, x_data, y_data, cv=10, scoring='accuracy')\n",
    "    k_scores.append(scores.mean())\n",
    "print(k_scores)\n",
    "\n",
    "plt.plot(k_range, k_scores)\n",
    "plt.xlabel('Value of K for KNN')\n",
    "plt.ylabel('Cross-Validated Accuracy')"
   ]
  },
  {
   "cell_type": "markdown",
   "metadata": {},
   "source": [
    "# Random Forest Classifier"
   ]
  },
  {
   "cell_type": "code",
   "execution_count": 204,
   "metadata": {},
   "outputs": [
    {
     "name": "stdout",
     "output_type": "stream",
     "text": [
      "0.9058823529411765 0.6190476190476191\n"
     ]
    }
   ],
   "source": [
    "rf = RandomForestClassifier()\n",
    "rf.fit(X_train, y_train)\n",
    "\n",
    "train_predicted = rf.predict(X_train)\n",
    "test_predicted = rf.predict(X_test)\n",
    "\n",
    "rf_Train = accuracy_score(y_train, train_predicted)\n",
    "rf_Test = accuracy_score(y_test, test_predicted)\n",
    "print(rf_Train, rf_Test)"
   ]
  },
  {
   "cell_type": "markdown",
   "metadata": {},
   "source": [
    "# Gradient Boosting Classifier"
   ]
  },
  {
   "cell_type": "code",
   "execution_count": 205,
   "metadata": {},
   "outputs": [
    {
     "name": "stdout",
     "output_type": "stream",
     "text": [
      "0.9098039215686274 0.6428571428571429\n"
     ]
    }
   ],
   "source": [
    "gdbc = GradientBoostingClassifier()\n",
    "gdbc.fit(X_train, y_train)\n",
    "\n",
    "train_predicted = gdbc.predict(X_train)\n",
    "test_predicted = gdbc.predict(X_test)\n",
    "\n",
    "gdbc_Train = accuracy_score(y_train, train_predicted)\n",
    "gdbc_Test = accuracy_score(y_test, test_predicted)\n",
    "print(gdbc_Train, gdbc_Test)\n",
    "\n"
   ]
  },
  {
   "cell_type": "markdown",
   "metadata": {},
   "source": [
    "# Cross Validation"
   ]
  },
  {
   "cell_type": "code",
   "execution_count": 152,
   "metadata": {},
   "outputs": [
    {
     "data": {
      "text/plain": [
       "array([[0.69230769, 0.76923077, 0.76923077, 0.61538462],\n",
       "       [0.73076923, 0.61538462, 0.61538462, 0.69230769],\n",
       "       [0.65384615, 0.69230769, 0.65384615, 0.61538462],\n",
       "       [0.73076923, 0.73076923, 0.80769231, 0.65384615],\n",
       "       [0.61538462, 0.65384615, 0.80769231, 0.57692308],\n",
       "       [0.64      , 0.6       , 0.48      , 0.6       ],\n",
       "       [0.56      , 0.56      , 0.6       , 0.56      ],\n",
       "       [0.76      , 0.56      , 0.6       , 0.72      ],\n",
       "       [0.68      , 0.6       , 0.64      , 0.68      ],\n",
       "       [0.64      , 0.6       , 0.64      , 0.68      ]])"
      ]
     },
     "execution_count": 152,
     "metadata": {},
     "output_type": "execute_result"
    }
   ],
   "source": [
    "estimators = [LogisticRegression(), RandomForestClassifier(), GradientBoostingClassifier(),KNeighborsClassifier(n_neighbors=16)]\n",
    "scores = crossVal(estimators, X_train, y_train, k=10)\n",
    "scores"
   ]
  },
  {
   "cell_type": "code",
   "execution_count": 153,
   "metadata": {},
   "outputs": [
    {
     "data": {
      "text/plain": [
       "array([0.67030769, 0.63815385, 0.66138462, 0.63938462])"
      ]
     },
     "execution_count": 153,
     "metadata": {},
     "output_type": "execute_result"
    }
   ],
   "source": [
    "np.mean(scores, axis=0)"
   ]
  },
  {
   "cell_type": "markdown",
   "metadata": {},
   "source": [
    "# Grid Search\n"
   ]
  },
  {
   "cell_type": "code",
   "execution_count": 203,
   "metadata": {},
   "outputs": [
    {
     "name": "stdout",
     "output_type": "stream",
     "text": [
      "Fitting 3 folds for each of 240 candidates, totalling 720 fits\n"
     ]
    },
    {
     "name": "stderr",
     "output_type": "stream",
     "text": [
      "[Parallel(n_jobs=-1)]: Done 196 tasks      | elapsed:    3.4s\n"
     ]
    },
    {
     "name": "stdout",
     "output_type": "stream",
     "text": [
      "best parameters: {'max_depth': 3, 'max_features': 'sqrt', 'min_samples_leaf': 8, 'n_estimators': 20}\n"
     ]
    },
    {
     "name": "stderr",
     "output_type": "stream",
     "text": [
      "[Parallel(n_jobs=-1)]: Done 720 out of 720 | elapsed:   11.4s finished\n"
     ]
    }
   ],
   "source": [
    "# Grid Search for best hyperparameters (Random Forest)\n",
    "random_forest_grid = {'max_depth': [3,4,5,None],\n",
    "                      'max_features': ['sqrt', 'log2', None],\n",
    "                      'min_samples_leaf': [1, 2, 4, 8],\n",
    "                       'n_estimators': [10, 20, 40, 80, 100]}\n",
    "\n",
    "rf_gridsearch = GridSearchCV(RandomForestClassifier(),\n",
    "                             random_forest_grid,\n",
    "                             n_jobs=-1,\n",
    "                             verbose=True,\n",
    "                             scoring='accuracy')\n",
    "\n",
    "rf_gridsearch.fit(X_train, y_train)\n",
    "\n",
    "print(\"best parameters:\", rf_gridsearch.best_params_)\n",
    "\n",
    "best_rf_model = rf_gridsearch.best_estimator_"
   ]
  },
  {
   "cell_type": "code",
   "execution_count": 202,
   "metadata": {},
   "outputs": [
    {
     "name": "stdout",
     "output_type": "stream",
     "text": [
      "Fitting 3 folds for each of 240 candidates, totalling 720 fits\n"
     ]
    },
    {
     "name": "stderr",
     "output_type": "stream",
     "text": [
      "[Parallel(n_jobs=-1)]: Done 340 tasks      | elapsed:    2.9s\n"
     ]
    },
    {
     "name": "stdout",
     "output_type": "stream",
     "text": [
      "best parameters: {'max_depth': 3, 'max_features': 'sqrt', 'min_samples_leaf': 4, 'n_estimators': 20}\n"
     ]
    },
    {
     "name": "stderr",
     "output_type": "stream",
     "text": [
      "[Parallel(n_jobs=-1)]: Done 720 out of 720 | elapsed:    7.4s finished\n"
     ]
    }
   ],
   "source": [
    "# Grid Search for best hyperparameters (GradientBoostRegressor)\n",
    "gradient_boost_grid = {'max_depth': [3,4,5,None],\n",
    "                      'max_features': ['sqrt', 'log2', None],\n",
    "                      'min_samples_leaf': [1, 2, 4, 8],\n",
    "                       'n_estimators': [10, 20, 40, 80,100]}\n",
    "\n",
    "gdbc_gridsearch = GridSearchCV(GradientBoostingClassifier(),\n",
    "                             gradient_boost_grid,\n",
    "                             n_jobs=-1,\n",
    "                             verbose=True,\n",
    "                             scoring='accuracy')\n",
    "\n",
    "gdbc_gridsearch.fit(X_train, y_train)\n",
    "\n",
    "print(\"best parameters:\", gdbc_gridsearch.best_params_)\n",
    "\n",
    "best_gdbc_model = gdbc_gridsearch.best_estimator_"
   ]
  },
  {
   "cell_type": "markdown",
   "metadata": {},
   "source": [
    "# Optimized Random Forest and Boosting Models"
   ]
  },
  {
   "cell_type": "code",
   "execution_count": 206,
   "metadata": {},
   "outputs": [
    {
     "name": "stdout",
     "output_type": "stream",
     "text": [
      "Model: Best RandomForestClassifier\tTestCV\tAccuracy_train:0.7647058823529411\tAccuracy_test:0.6507936507936508\n"
     ]
    }
   ],
   "source": [
    "best_rf = RandomForestClassifier(max_depth=3, max_features='sqrt',\n",
    "                                min_samples_split=2, min_samples_leaf=8,\n",
    "                                bootstrap=True, n_estimators=20,\n",
    "                                n_jobs=-1, random_state=1)\n",
    "\n",
    "best_rf.fit(X_train, y_train)\n",
    "\n",
    "train_predicted = best_rf.predict(X_train)\n",
    "test_predicted = best_rf.predict(X_test)\n",
    "best_rf_train, best_rf_test =accuracy_score(y_train, train_predicted), accuracy_score(y_test, test_predicted)\n",
    "print(f\"Model: Best RandomForestClassifier\\tTestCV\\tAccuracy_train:{best_rf_train}\\tAccuracy_test:{best_rf_test}\")"
   ]
  },
  {
   "cell_type": "code",
   "execution_count": 8,
   "metadata": {},
   "outputs": [
    {
     "name": "stdout",
     "output_type": "stream",
     "text": [
      "Model: Best GradientBoostingClassifier\tTestCV\tAccuracy_train:0.8421052631578947\tAccuracy_test:0.3404255319148936\n"
     ]
    }
   ],
   "source": [
    "# The best Gradient Boosting Classifier improves slightly upon the default RF used above.\n",
    "best_gdbc = GradientBoostingClassifier(max_depth=3, max_features='sqrt',\n",
    "                                       min_samples_split=2,\n",
    "                                        min_samples_leaf=4,\n",
    "                                        n_estimators=20,\n",
    "                                        random_state=1)\n",
    "best_gdbc.fit(X_train, y_train)\n",
    "\n",
    "# Call predict to get the predicted values for training and test set\n",
    "train_predicted = best_gdbc.predict(X_train)\n",
    "test_predicted = best_gdbc.predict(X_test)\n",
    "\n",
    "# log-loss score calcs for training and test\n",
    "best_gdbc_train = accuracy_score(y_train, train_predicted)\n",
    "best_gdbc_test = accuracy_score(y_test, test_predicted)\n",
    "print(f\"Model: Best GradientBoostingClassifier\\tTestCV\\tAccuracy_train:{best_gdbc_train}\\tAccuracy_test:{best_gdbc_test}\")"
   ]
  },
  {
   "cell_type": "markdown",
   "metadata": {},
   "source": [
    "Initial RF Score:    0.6190476190476191\n",
    "\n",
    "Optimized RF Score:  0.6507936507936508\n",
    "\n",
    "Initial GDBC Score:  0.6428571428571429\n",
    "\n",
    "Optimized GDBC Score:0.626984126984127\n",
    "\n"
   ]
  },
  {
   "cell_type": "markdown",
   "metadata": {},
   "source": [
    "# Feature Importance\n"
   ]
  },
  {
   "cell_type": "code",
   "execution_count": 209,
   "metadata": {},
   "outputs": [
    {
     "data": {
      "text/plain": [
       "<matplotlib.axes._subplots.AxesSubplot at 0x7f887980e5f8>"
      ]
     },
     "execution_count": 209,
     "metadata": {},
     "output_type": "execute_result"
    },
    {
     "data": {
      "image/png": "[encoded data removed]",
      "text/plain": [
       "<Figure size 432x288 with 1 Axes>"
      ]
     },
     "metadata": {},
     "output_type": "display_data"
    }
   ],
   "source": [
    "# Feature Importances(RF)\n",
    "# Plot the feature importance\n",
    "feat_scores = pd.DataFrame({'Fraction of Samples Affected' : rf.feature_importances_},\n",
    "                           index=X_train.columns)\n",
    "feat_scores = feat_scores.sort_values(by='Fraction of Samples Affected')\n",
    "feat_scores.plot(kind='barh')"
   ]
  },
  {
   "cell_type": "code",
   "execution_count": 7,
   "metadata": {},
   "outputs": [
    {
     "ename": "NameError",
     "evalue": "name 'best_gdbc' is not defined",
     "output_type": "error",
     "traceback": [
      "\u001b[0;31m---------------------------------------------------------------------------\u001b[0m",
      "\u001b[0;31mNameError\u001b[0m                                 Traceback (most recent call last)",
      "\u001b[0;32m<ipython-input-7-6afaf5dbef59>\u001b[0m in \u001b[0;36m<module>\u001b[0;34m()\u001b[0m\n\u001b[1;32m      1\u001b[0m \u001b[0;31m# Feature Importances(GB)\u001b[0m\u001b[0;34m\u001b[0m\u001b[0;34m\u001b[0m\u001b[0m\n\u001b[1;32m      2\u001b[0m \u001b[0;31m# Plot the feature importance\u001b[0m\u001b[0;34m\u001b[0m\u001b[0;34m\u001b[0m\u001b[0m\n\u001b[0;32m----> 3\u001b[0;31m feat_scores = pd.DataFrame({'Fraction of Samples Affected' : best_gdbc.feature_importances_},\n\u001b[0m\u001b[1;32m      4\u001b[0m                            index=X_train.columns)\n\u001b[1;32m      5\u001b[0m \u001b[0mfeat_scores\u001b[0m \u001b[0;34m=\u001b[0m \u001b[0mfeat_scores\u001b[0m\u001b[0;34m.\u001b[0m\u001b[0msort_values\u001b[0m\u001b[0;34m(\u001b[0m\u001b[0mby\u001b[0m\u001b[0;34m=\u001b[0m\u001b[0;34m'Fraction of Samples Affected'\u001b[0m\u001b[0;34m)\u001b[0m\u001b[0;34m\u001b[0m\u001b[0m\n",
      "\u001b[0;31mNameError\u001b[0m: name 'best_gdbc' is not defined"
     ]
    }
   ],
   "source": [
    "# Feature Importances(GB)\n",
    "# Plot the feature importance\n",
    "feat_scores = pd.DataFrame({'Fraction of Samples Affected' : best_gdbc.feature_importances_},\n",
    "                           index=X_train.columns)\n",
    "feat_scores = feat_scores.sort_values(by='Fraction of Samples Affected')\n",
    "feat_scores.plot(kind='barh')"
   ]
  },
  {
   "cell_type": "code",
   "execution_count": 6,
   "metadata": {},
   "outputs": [
    {
     "ename": "NameError",
     "evalue": "name 'best_gdbc' is not defined",
     "output_type": "error",
     "traceback": [
      "\u001b[0;31m---------------------------------------------------------------------------\u001b[0m",
      "\u001b[0;31mNameError\u001b[0m                                 Traceback (most recent call last)",
      "\u001b[0;32m<ipython-input-6-f689df81ac00>\u001b[0m in \u001b[0;36m<module>\u001b[0;34m()\u001b[0m\n\u001b[1;32m      9\u001b[0m \u001b[0mfeatures\u001b[0m \u001b[0;34m=\u001b[0m \u001b[0;34m[\u001b[0m\u001b[0;36m0\u001b[0m\u001b[0;34m,\u001b[0m \u001b[0;36m1\u001b[0m\u001b[0;34m,\u001b[0m \u001b[0;36m2\u001b[0m\u001b[0;34m,\u001b[0m \u001b[0;36m3\u001b[0m\u001b[0;34m,\u001b[0m \u001b[0;36m4\u001b[0m\u001b[0;34m,\u001b[0m \u001b[0;36m5\u001b[0m\u001b[0;34m,\u001b[0m \u001b[0;36m6\u001b[0m\u001b[0;34m,\u001b[0m \u001b[0;36m7\u001b[0m\u001b[0;34m,\u001b[0m \u001b[0;36m8\u001b[0m\u001b[0;34m,\u001b[0m \u001b[0;36m9\u001b[0m\u001b[0;34m,\u001b[0m \u001b[0;36m10\u001b[0m\u001b[0;34m,\u001b[0m\u001b[0;36m11\u001b[0m\u001b[0;34m]\u001b[0m\u001b[0;34m\u001b[0m\u001b[0m\n\u001b[1;32m     10\u001b[0m \u001b[0;34m\u001b[0m\u001b[0m\n\u001b[0;32m---> 11\u001b[0;31m fig, axs = plot_partial_dependence(best_gdbc, X_train, features,\n\u001b[0m\u001b[1;32m     12\u001b[0m                                        \u001b[0mfeature_names\u001b[0m\u001b[0;34m=\u001b[0m\u001b[0mvar_names\u001b[0m\u001b[0;34m,\u001b[0m\u001b[0;34m\u001b[0m\u001b[0m\n\u001b[1;32m     13\u001b[0m                                        n_jobs=3, grid_resolution=250, figsize=(30, 15))\n",
      "\u001b[0;31mNameError\u001b[0m: name 'best_gdbc' is not defined"
     ]
    }
   ],
   "source": [
    "%matplotlib inline\n",
    "import matplotlib.pyplot as plt\n",
    "plt.style.use('ggplot')\n",
    "\n",
    "from sklearn.ensemble.partial_dependence import plot_partial_dependence\n",
    "\n",
    "var_names = X_train.columns\n",
    "features = list(range(X_train.shape[1]))\n",
    "features = [0, 1, 2, 3, 4, 5, 6, 7, 8, 9, 10,11]\n",
    "\n",
    "fig, axs = plot_partial_dependence(best_gdbc, X_train, features,\n",
    "                                       feature_names=var_names,\n",
    "                                       n_jobs=3, grid_resolution=250, figsize=(30, 15))\n",
    "for ax in axs:\n",
    "    ax.set_ylim([-1, 1])\n",
    "fig.tight_layout()"
   ]
  },
  {
   "cell_type": "code",
   "execution_count": null,
   "metadata": {},
   "outputs": [],
   "source": []
  },
  {
   "cell_type": "code",
   "execution_count": null,
   "metadata": {},
   "outputs": [],
   "source": []
  }
 ],
 "metadata": {
  "kernelspec": {
   "display_name": "Python 3",
   "language": "python",
   "name": "python3"
  },
  "language_info": {
   "codemirror_mode": {
    "name": "ipython",
    "version": 3
   },
   "file_extension": ".py",
   "mimetype": "text/x-python",
   "name": "python",
   "nbconvert_exporter": "python",
   "pygments_lexer": "ipython3",
   "version": "3.6.5"
  }
 },
 "nbformat": 4,
 "nbformat_minor": 2
}
