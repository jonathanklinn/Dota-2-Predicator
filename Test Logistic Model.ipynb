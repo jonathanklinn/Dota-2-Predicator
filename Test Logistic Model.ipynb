{
 "cells": [
  {
   "cell_type": "code",
   "execution_count": 2,
   "metadata": {},
   "outputs": [],
   "source": [
    "import pprint\n",
    "import pandas as pd\n",
    "import numpy as np\n",
    "from sklearn.linear_model import LogisticRegression\n",
    "from sklearn.model_selection import train_test_split\n",
    "from sklearn.metrics import accuracy_score , confusion_matrix\n",
    "\n",
    "\n"
   ]
  },
  {
   "cell_type": "code",
   "execution_count": 11,
   "metadata": {},
   "outputs": [
    {
     "name": "stdout",
     "output_type": "stream",
     "text": [
      "Log:  0.6333333333333333\n",
      "[[-1.80441987e-02 -2.43455877e-02 -7.50670871e-03  1.09857352e-04\n",
      "  -8.74557033e-05 -2.51723574e-05  1.27777731e-02 -6.45993469e-03\n",
      "  -3.08799363e-03  2.89245533e-01  3.86533828e-04 -3.92267432e-03]]\n",
      "Logist \r",
      " [[13  8]\n",
      " [14 25]]\n"
     ]
    }
   ],
   "source": [
    "matchup_data = pd.read_csv(\"data/matchup_data.csv\")\n",
    "\n",
    "x_data = matchup_data[['diff_assists', 'diff_denies', 'diff_first_blood', 'diff_gpm', 'diff_healing', 'diff_hero_damage', 'diff_kills', 'diff_last_hits', 'diff_match_duration', 'diff_total_levels', 'diff_tower_damage', 'diff_xpm']]\n",
    "y_data = matchup_data.radiant_winner\n",
    "\n",
    "x_train, x_test, y_train, y_test = train_test_split(x_data, y_data, test_size = 0.33, random_state = 12)\n",
    "model = LogisticRegression()\n",
    "model.fit(x_train, y_train)\n",
    "prediction = dict()\n",
    "prediction['Logistic'] = model.predict(x_test)\n",
    "\n",
    "print('Log: ',accuracy_score(y_test, prediction['Logistic']))\n",
    "print(model.coef_)\n",
    "\n",
    "conf_mat_logist = confusion_matrix(y_test, prediction['Logistic'])\n",
    "print('Logist \\r', conf_mat_logist)"
   ]
  },
  {
   "cell_type": "code",
   "execution_count": null,
   "metadata": {},
   "outputs": [],
   "source": []
  },
  {
   "cell_type": "code",
   "execution_count": null,
   "metadata": {},
   "outputs": [],
   "source": []
  },
  {
   "cell_type": "code",
   "execution_count": 13,
   "metadata": {},
   "outputs": [
    {
     "data": {
      "text/plain": [
       "array([[-1.80441987e-02, -2.43455877e-02, -7.50670871e-03,\n",
       "         1.09857352e-04, -8.74557033e-05, -2.51723574e-05,\n",
       "         1.27777731e-02, -6.45993469e-03, -3.08799363e-03,\n",
       "         2.89245533e-01,  3.86533828e-04, -3.92267432e-03]])"
      ]
     },
     "execution_count": 13,
     "metadata": {},
     "output_type": "execute_result"
    }
   ],
   "source": [
    "model.coef_"
   ]
  },
  {
   "cell_type": "code",
   "execution_count": null,
   "metadata": {},
   "outputs": [],
   "source": []
  },
  {
   "cell_type": "code",
   "execution_count": null,
   "metadata": {},
   "outputs": [],
   "source": []
  },
  {
   "cell_type": "code",
   "execution_count": null,
   "metadata": {},
   "outputs": [],
   "source": []
  }
 ],
 "metadata": {
  "kernelspec": {
   "display_name": "Python 3",
   "language": "python",
   "name": "python3"
  },
  "language_info": {
   "codemirror_mode": {
    "name": "ipython",
    "version": 3
   },
   "file_extension": ".py",
   "mimetype": "text/x-python",
   "name": "python",
   "nbconvert_exporter": "python",
   "pygments_lexer": "ipython3",
   "version": "3.6.5"
  }
 },
 "nbformat": 4,
 "nbformat_minor": 2
}
