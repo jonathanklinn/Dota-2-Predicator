{
 "cells": [
  {
   "cell_type": "code",
   "execution_count": 1,
   "metadata": {},
   "outputs": [],
   "source": [
    "import pandas as pd\n",
    "import numpy as np\n",
    "import requests\n",
    "from bs4 import BeautifulSoup\n",
    "\n",
    "\n",
    "\n",
    "def get_match_id(team_1,team_2, match_ids):\n",
    "    team_1=team_1[:-2]\n",
    "    team_2=team_2[:-2]\n",
    "\n",
    "    try:\n",
    "        url='http://www.datdota.com/matchfinder/classic?team-a='+team_1+'&team-b='+team_2+'&patch=7.19&patch=7.18&patch=7.17&patch=7.16&patch=7.15&patch=7.14&patch=7.13&patch=7.12&patch=7.11&patch=7.10&patch=7.09&patch=7.08&patch=7.07&patch=7.06&patch=7.05&patch=7.04&patch=7.03&patch=7.02&patch=7.01&patch=7.00&patch=6.88&after=20%2F08%2F2015&before=20%2F08%2F2018&duration=0%3B200&duration-value-from=0&duration-value-to=200&valve-event=does-not-matter&threshold=1'\n",
    "        print(url)\n",
    "\n",
    "        r=requests.get(url)\n",
    "        soup = BeautifulSoup(r.text, 'lxml')\n",
    "        table = soup.find(class_ ='table table-striped table-bordered table-hover data-table')\n",
    "\n",
    "        for row in table.find_all('tr')[2:]:\n",
    "            col = row.find_all('td')\n",
    "            temp_id = col[1].text.strip()\n",
    "            print(temp_id)\n",
    "            temp_df = {'match_id': temp_id}\n",
    "            match_ids = match_ids.append(temp_df, ignore_index=True)\n",
    "        return match_ids\n",
    "    except:\n",
    "        return match_ids\n",
    "\n",
    "\n"
   ]
  },
  {
   "cell_type": "code",
   "execution_count": 5,
   "metadata": {},
   "outputs": [
    {
     "ename": "IndexError",
     "evalue": "invalid index to scalar variable.",
     "output_type": "error",
     "traceback": [
      "\u001b[0;31m---------------------------------------------------------------------------\u001b[0m",
      "\u001b[0;31mIndexError\u001b[0m                                Traceback (most recent call last)",
      "\u001b[0;32m<ipython-input-5-76ab00adc6ca>\u001b[0m in \u001b[0;36m<module>\u001b[0;34m()\u001b[0m\n\u001b[1;32m      2\u001b[0m \u001b[0mmatch_ids\u001b[0m \u001b[0;34m=\u001b[0m \u001b[0mpd\u001b[0m\u001b[0;34m.\u001b[0m\u001b[0mDataFrame\u001b[0m\u001b[0;34m(\u001b[0m\u001b[0mdict1\u001b[0m\u001b[0;34m)\u001b[0m\u001b[0;34m\u001b[0m\u001b[0m\n\u001b[1;32m      3\u001b[0m \u001b[0;34m\u001b[0m\u001b[0m\n\u001b[0;32m----> 4\u001b[0;31m \u001b[0mmatch_ids\u001b[0m \u001b[0;34m=\u001b[0m \u001b[0mget_match_id\u001b[0m\u001b[0;34m(\u001b[0m\u001b[0mteam_1\u001b[0m\u001b[0;34m,\u001b[0m \u001b[0mteam_2\u001b[0m\u001b[0;34m,\u001b[0m \u001b[0mmatch_ids\u001b[0m\u001b[0;34m)\u001b[0m\u001b[0;34m\u001b[0m\u001b[0m\n\u001b[0m\u001b[1;32m      5\u001b[0m \u001b[0mteam_ids\u001b[0m \u001b[0;34m=\u001b[0m \u001b[0mpd\u001b[0m\u001b[0;34m.\u001b[0m\u001b[0mread_csv\u001b[0m\u001b[0;34m(\u001b[0m\u001b[0;34m\"data/match_info_data.csv\"\u001b[0m\u001b[0;34m)\u001b[0m\u001b[0;34m\u001b[0m\u001b[0m\n\u001b[1;32m      6\u001b[0m \u001b[0;34m\u001b[0m\u001b[0m\n",
      "\u001b[0;32m<ipython-input-1-ed77e95095c7>\u001b[0m in \u001b[0;36mget_match_id\u001b[0;34m(team_1, team_2, match_ids)\u001b[0m\n\u001b[1;32m      7\u001b[0m \u001b[0;34m\u001b[0m\u001b[0m\n\u001b[1;32m      8\u001b[0m \u001b[0;32mdef\u001b[0m \u001b[0mget_match_id\u001b[0m\u001b[0;34m(\u001b[0m\u001b[0mteam_1\u001b[0m\u001b[0;34m,\u001b[0m\u001b[0mteam_2\u001b[0m\u001b[0;34m,\u001b[0m \u001b[0mmatch_ids\u001b[0m\u001b[0;34m)\u001b[0m\u001b[0;34m:\u001b[0m\u001b[0;34m\u001b[0m\u001b[0m\n\u001b[0;32m----> 9\u001b[0;31m     \u001b[0mteam_1\u001b[0m\u001b[0;34m=\u001b[0m\u001b[0mteam_1\u001b[0m\u001b[0;34m[\u001b[0m\u001b[0;34m:\u001b[0m\u001b[0;34m-\u001b[0m\u001b[0;36m2\u001b[0m\u001b[0;34m]\u001b[0m\u001b[0;34m\u001b[0m\u001b[0m\n\u001b[0m\u001b[1;32m     10\u001b[0m     \u001b[0mteam_2\u001b[0m\u001b[0;34m=\u001b[0m\u001b[0mteam_2\u001b[0m\u001b[0;34m[\u001b[0m\u001b[0;34m:\u001b[0m\u001b[0;34m-\u001b[0m\u001b[0;36m2\u001b[0m\u001b[0;34m]\u001b[0m\u001b[0;34m\u001b[0m\u001b[0m\n\u001b[1;32m     11\u001b[0m \u001b[0;34m\u001b[0m\u001b[0m\n",
      "\u001b[0;31mIndexError\u001b[0m: invalid index to scalar variable."
     ]
    }
   ],
   "source": [
    "dict1 = {'match_id': [np.nan]}\n",
    "match_ids = pd.DataFrame(dict1)\n",
    "\n",
    "\n",
    "team_ids = pd.read_csv(\"data/match_info_data.csv\")\n",
    "\n",
    "\n",
    "print(team_ids)\n",
    "\n",
    "for i in range(0, len(team_ids)):\n",
    "    for x in range (i + 1, len(team_ids)):\n",
    "        team_1 = team_ids.loc[i, 'Team_ID']\n",
    "        team_2 = team_ids.loc[x, 'Team_ID']\n",
    "        match_ids = get_match_id(str(team_1), str(team_2), match_ids)\n",
    "        \n",
    "\n",
    "match_ids = match_ids.dropna(how ='all')\n",
    "print(match_ids)\n",
    "\n",
    "match_ids.to_csv(\"data/match_ids.csv\", index = False)"
   ]
  },
  {
   "cell_type": "code",
   "execution_count": null,
   "metadata": {},
   "outputs": [],
   "source": []
  },
  {
   "cell_type": "code",
   "execution_count": null,
   "metadata": {},
   "outputs": [],
   "source": []
  }
 ],
 "metadata": {
  "kernelspec": {
   "display_name": "Python 3",
   "language": "python",
   "name": "python3"
  },
  "language_info": {
   "codemirror_mode": {
    "name": "ipython",
    "version": 3
   },
   "file_extension": ".py",
   "mimetype": "text/x-python",
   "name": "python",
   "nbconvert_exporter": "python",
   "pygments_lexer": "ipython3",
   "version": "3.6.5"
  }
 },
 "nbformat": 4,
 "nbformat_minor": 2
}
