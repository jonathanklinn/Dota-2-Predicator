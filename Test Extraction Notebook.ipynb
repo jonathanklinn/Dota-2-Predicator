{
 "cells": [
  {
   "cell_type": "code",
   "execution_count": 1,
   "metadata": {},
   "outputs": [
    {
     "ename": "SyntaxError",
     "evalue": "invalid syntax (<ipython-input-1-ad3065d60199>, line 21)",
     "output_type": "error",
     "traceback": [
      "\u001b[0;36m  File \u001b[0;32m\"<ipython-input-1-ad3065d60199>\"\u001b[0;36m, line \u001b[0;32m21\u001b[0m\n\u001b[0;31m    try:\u001b[0m\n\u001b[0m      ^\u001b[0m\n\u001b[0;31mSyntaxError\u001b[0m\u001b[0;31m:\u001b[0m invalid syntax\n"
     ]
    }
   ],
   "source": [
    "import dota2api\n",
    "import pprint\n",
    "import pandas as pd\n",
    "import numpy as np\n",
    "\n",
    "pd.set_option('display.expand_frame_repr', False)\n",
    "\n",
    "api = dota2api.Initialise(\"B335AEF628EF2F2D2DC5A94BA4A02ED9\")\n",
    "\n",
    "matches_data = pd.read_csv(\"data/3yearmatchid.csv\")\n",
    "\n",
    "dict_info = {'Team_ID': [np.nan], 'Team_name': [np.nan]}\n",
    "match_info = pd.DataFrame(dict_info)\n",
    "\n",
    "for i in range(0, len(matches_data)): \n",
    "    try:\n",
    "        current_match = matches_data['match_id'][i]\n",
    "        print(current_match)\n",
    "        match = api.get_match_details(match_id = current_match)\n",
    "\n",
    "    try:\n",
    "            radiant_current = match['radiant_team_id']\n",
    "    except:\n",
    "            radiant_current = \"\"\n",
    "\n",
    "    try:\n",
    "            radiant_name = match['radiant_name']\n",
    "    except:\n",
    "            radiant_name = \"\"\n",
    "\n",
    "    temp_info1 = {'Team_ID': radiant_current, 'Team_name': radiant_name}\n",
    "    match_info = match_info.append(temp_info1, ignore_index=True)\n",
    "\n",
    "    try:\n",
    "            dire_current = match['dire_team_id']\n",
    "    except:\n",
    "            dire_current = \"\"\n",
    "\n",
    "    try:\n",
    "            dire_name = match['dire_name']\n",
    "    except:\n",
    "            dire_name = \"\"\n",
    "\n",
    "        temp_info2 = {'Team_ID': dire_current, 'Team_name': dire_name}\n",
    "        match_info = match_info.append(temp_info2, ignore_index=True)\n",
    "\n",
    "    except:\n",
    "        print(\"Something went wrong\")\n",
    "\n",
    "match_info = match_info.dropna()\n",
    "match_info_nodups = match_info.drop_duplicates()\n",
    "match_info_nodups.to_csv(\"data/match_info_data.csv\", index=False)\n"
   ]
  },
  {
   "cell_type": "code",
   "execution_count": null,
   "metadata": {},
   "outputs": [],
   "source": []
  },
  {
   "cell_type": "code",
   "execution_count": null,
   "metadata": {},
   "outputs": [],
   "source": []
  }
 ],
 "metadata": {
  "kernelspec": {
   "display_name": "Python 3",
   "language": "python",
   "name": "python3"
  },
  "language_info": {
   "codemirror_mode": {
    "name": "ipython",
    "version": 3
   },
   "file_extension": ".py",
   "mimetype": "text/x-python",
   "name": "python",
   "nbconvert_exporter": "python",
   "pygments_lexer": "ipython3",
   "version": "3.6.5"
  }
 },
 "nbformat": 4,
 "nbformat_minor": 2
}
