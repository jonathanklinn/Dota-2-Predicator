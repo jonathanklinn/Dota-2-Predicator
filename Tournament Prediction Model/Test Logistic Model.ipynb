{
 "cells": [
  {
   "cell_type": "code",
   "execution_count": 1,
   "metadata": {},
   "outputs": [],
   "source": [
    "import pprint\n",
    "import pandas as pd\n",
    "import numpy as np\n",
    "from sklearn.linear_model import LogisticRegression\n",
    "from sklearn.model_selection import train_test_split\n",
    "from sklearn.metrics import accuracy_score , confusion_matrix\n",
    "from sklearn.metrics import log_loss, make_scorer\n",
    "\n",
    "\n"
   ]
  },
  {
   "cell_type": "code",
   "execution_count": 22,
   "metadata": {},
   "outputs": [
    {
     "name": "stdout",
     "output_type": "stream",
     "text": [
      "Log:  0.6587301587301587\n",
      "[[ 4.76132162e-03  2.77220083e-03  8.83801155e-04  2.58388686e-03\n",
      "   1.64851571e-05  2.46983104e-05  2.98051384e-02  4.78159307e-03\n",
      "  -3.06025344e-03 -7.61485913e-02  1.80969827e-04  2.21736832e-05]]\n",
      "Logist \r",
      " [[32 26]\n",
      " [17 51]]\n"
     ]
    }
   ],
   "source": [
    "matchup_data = pd.read_csv(\"data/matchup_data.csv\")\n",
    "\n",
    "x_data = matchup_data[['diff_assists', 'diff_denies', 'diff_first_blood', 'diff_gpm', 'diff_healing', 'diff_hero_damage', 'diff_kills', 'diff_last_hits', 'diff_match_duration', 'diff_total_levels', 'diff_tower_damage', 'diff_xpm']]\n",
    "y_data = matchup_data.radiant_winner\n",
    "\n",
    "x_train, x_test, y_train, y_test = train_test_split(x_data, y_data, test_size = 0.33, random_state = 14)\n",
    "model = LogisticRegression()\n",
    "model.fit(x_train, y_train)\n",
    "prediction = dict()\n",
    "prediction['Logistic'] = model.predict(x_test)\n",
    "\n",
    "print('Log: ',accuracy_score(y_test, prediction['Logistic']))\n",
    "print(model.coef_)\n",
    "\n",
    "conf_mat_logist = confusion_matrix(y_test, prediction['Logistic'])\n",
    "print('Logist \\r', conf_mat_logist)"
   ]
  },
  {
   "cell_type": "code",
   "execution_count": 23,
   "metadata": {},
   "outputs": [
    {
     "name": "stdout",
     "output_type": "stream",
     "text": [
      "log loss = 0.6118882357317612\n",
      "accuracy = 0.6587301587301587\n"
     ]
    }
   ],
   "source": [
    "prob= model.predict_proba(x_test)\n",
    "\n",
    "print(f\"log loss = {log_loss(y_test, model.predict_proba(x_test)[:, 1])}\")\n",
    "print(f\"accuracy = {model.score(x_test, y_test)}\")\n"
   ]
  },
  {
   "cell_type": "code",
   "execution_count": 24,
   "metadata": {},
   "outputs": [
    {
     "data": {
      "text/plain": [
       "array([[0.52550539, 0.47449461],\n",
       "       [0.41869346, 0.58130654],\n",
       "       [0.18833044, 0.81166956],\n",
       "       [0.47428038, 0.52571962],\n",
       "       [0.17275238, 0.82724762],\n",
       "       [0.10813585, 0.89186415],\n",
       "       [0.53636447, 0.46363553],\n",
       "       [0.5221562 , 0.4778438 ],\n",
       "       [0.71154735, 0.28845265],\n",
       "       [0.25272432, 0.74727568],\n",
       "       [0.31839122, 0.68160878],\n",
       "       [0.69796306, 0.30203694],\n",
       "       [0.55471934, 0.44528066],\n",
       "       [0.77372503, 0.22627497],\n",
       "       [0.2837976 , 0.7162024 ],\n",
       "       [0.41869346, 0.58130654],\n",
       "       [0.12980716, 0.87019284],\n",
       "       [0.55611373, 0.44388627],\n",
       "       [0.39626655, 0.60373345],\n",
       "       [0.35544269, 0.64455731],\n",
       "       [0.12724429, 0.87275571],\n",
       "       [0.54542099, 0.45457901],\n",
       "       [0.5825925 , 0.4174075 ],\n",
       "       [0.15608347, 0.84391653],\n",
       "       [0.84818553, 0.15181447],\n",
       "       [0.4623349 , 0.5376651 ],\n",
       "       [0.39045355, 0.60954645],\n",
       "       [0.65094836, 0.34905164],\n",
       "       [0.21648773, 0.78351227],\n",
       "       [0.07955893, 0.92044107],\n",
       "       [0.39487042, 0.60512958],\n",
       "       [0.16598497, 0.83401503],\n",
       "       [0.4037665 , 0.5962335 ],\n",
       "       [0.28132052, 0.71867948],\n",
       "       [0.73930885, 0.26069115],\n",
       "       [0.43913153, 0.56086847],\n",
       "       [0.19089604, 0.80910396],\n",
       "       [0.1755706 , 0.8244294 ],\n",
       "       [0.11491844, 0.88508156],\n",
       "       [0.59100111, 0.40899889],\n",
       "       [0.43913153, 0.56086847],\n",
       "       [0.32974488, 0.67025512],\n",
       "       [0.41673897, 0.58326103],\n",
       "       [0.26410306, 0.73589694],\n",
       "       [0.10167642, 0.89832358],\n",
       "       [0.52142282, 0.47857718],\n",
       "       [0.32818354, 0.67181646],\n",
       "       [0.50372111, 0.49627889],\n",
       "       [0.69826553, 0.30173447],\n",
       "       [0.39045355, 0.60954645],\n",
       "       [0.55108815, 0.44891185],\n",
       "       [0.23384807, 0.76615193],\n",
       "       [0.23400615, 0.76599385],\n",
       "       [0.67429442, 0.32570558],\n",
       "       [0.77526533, 0.22473467],\n",
       "       [0.38871591, 0.61128409],\n",
       "       [0.34041486, 0.65958514],\n",
       "       [0.42208853, 0.57791147],\n",
       "       [0.38871591, 0.61128409],\n",
       "       [0.53636447, 0.46363553],\n",
       "       [0.52084615, 0.47915385],\n",
       "       [0.15219351, 0.84780649],\n",
       "       [0.39060591, 0.60939409],\n",
       "       [0.09785715, 0.90214285],\n",
       "       [0.51833899, 0.48166101],\n",
       "       [0.52623993, 0.47376007],\n",
       "       [0.38941616, 0.61058384],\n",
       "       [0.16714423, 0.83285577],\n",
       "       [0.52142282, 0.47857718],\n",
       "       [0.36183367, 0.63816633],\n",
       "       [0.09125989, 0.90874011],\n",
       "       [0.88647802, 0.11352198],\n",
       "       [0.91338255, 0.08661745],\n",
       "       [0.41673897, 0.58326103],\n",
       "       [0.2254298 , 0.7745702 ],\n",
       "       [0.67396391, 0.32603609],\n",
       "       [0.48228982, 0.51771018],\n",
       "       [0.34095615, 0.65904385],\n",
       "       [0.3360199 , 0.6639801 ],\n",
       "       [0.60580188, 0.39419812],\n",
       "       [0.48228982, 0.51771018],\n",
       "       [0.39386613, 0.60613387],\n",
       "       [0.34733557, 0.65266443],\n",
       "       [0.62333194, 0.37666806],\n",
       "       [0.4623349 , 0.5376651 ],\n",
       "       [0.63513995, 0.36486005],\n",
       "       [0.5911582 , 0.4088418 ],\n",
       "       [0.18833044, 0.81166956],\n",
       "       [0.23384807, 0.76615193],\n",
       "       [0.69796306, 0.30203694],\n",
       "       [0.14266135, 0.85733865],\n",
       "       [0.23476434, 0.76523566],\n",
       "       [0.16290082, 0.83709918],\n",
       "       [0.52084615, 0.47915385],\n",
       "       [0.13847195, 0.86152805],\n",
       "       [0.34721675, 0.65278325],\n",
       "       [0.5911582 , 0.4088418 ],\n",
       "       [0.67429442, 0.32570558],\n",
       "       [0.59100111, 0.40899889],\n",
       "       [0.78616324, 0.21383676],\n",
       "       [0.74993757, 0.25006243],\n",
       "       [0.61373224, 0.38626776],\n",
       "       [0.14266135, 0.85733865],\n",
       "       [0.48372889, 0.51627111],\n",
       "       [0.59100111, 0.40899889],\n",
       "       [0.56658742, 0.43341258],\n",
       "       [0.2991452 , 0.7008548 ],\n",
       "       [0.27470767, 0.72529233],\n",
       "       [0.94635245, 0.05364755],\n",
       "       [0.20769368, 0.79230632],\n",
       "       [0.43688943, 0.56311057],\n",
       "       [0.15012175, 0.84987825],\n",
       "       [0.7247546 , 0.2752454 ],\n",
       "       [0.15822676, 0.84177324],\n",
       "       [0.11608799, 0.88391201],\n",
       "       [0.71881598, 0.28118402],\n",
       "       [0.55869464, 0.44130536],\n",
       "       [0.19940198, 0.80059802],\n",
       "       [0.17351163, 0.82648837],\n",
       "       [0.46749007, 0.53250993],\n",
       "       [0.65156781, 0.34843219],\n",
       "       [0.51833899, 0.48166101],\n",
       "       [0.53066973, 0.46933027],\n",
       "       [0.37980062, 0.62019938],\n",
       "       [0.15241602, 0.84758398],\n",
       "       [0.34721675, 0.65278325]])"
      ]
     },
     "execution_count": 24,
     "metadata": {},
     "output_type": "execute_result"
    }
   ],
   "source": [
    "prob"
   ]
  },
  {
   "cell_type": "code",
   "execution_count": 25,
   "metadata": {},
   "outputs": [
    {
     "data": {
      "text/plain": [
       "array([[ 4.76132162e-03,  2.77220083e-03,  8.83801155e-04,\n",
       "         2.58388686e-03,  1.64851571e-05,  2.46983104e-05,\n",
       "         2.98051384e-02,  4.78159307e-03, -3.06025344e-03,\n",
       "        -7.61485913e-02,  1.80969827e-04,  2.21736832e-05]])"
      ]
     },
     "execution_count": 25,
     "metadata": {},
     "output_type": "execute_result"
    }
   ],
   "source": [
    "model.coef_"
   ]
  },
  {
   "cell_type": "code",
   "execution_count": 26,
   "metadata": {},
   "outputs": [],
   "source": [
    "\n",
    "from sklearn.model_selection import cross_validate\n",
    "from sklearn.metrics import confusion_matrix\n",
    "from sklearn.model_selection import cross_val_score\n",
    "from sklearn.metrics import mean_squared_error\n"
   ]
  },
  {
   "cell_type": "code",
   "execution_count": null,
   "metadata": {},
   "outputs": [],
   "source": []
  },
  {
   "cell_type": "code",
   "execution_count": 27,
   "metadata": {},
   "outputs": [],
   "source": [
    "cv_results = cross_validate(model, x_data, y_data,cv=5,scoring='accuracy')"
   ]
  },
  {
   "cell_type": "code",
   "execution_count": 28,
   "metadata": {},
   "outputs": [
    {
     "data": {
      "text/plain": [
       "['fit_time', 'score_time', 'test_score', 'train_score']"
      ]
     },
     "execution_count": 28,
     "metadata": {},
     "output_type": "execute_result"
    }
   ],
   "source": [
    "sorted(cv_results.keys()) "
   ]
  },
  {
   "cell_type": "code",
   "execution_count": 29,
   "metadata": {},
   "outputs": [
    {
     "data": {
      "text/plain": [
       "array([0.61038961, 0.64473684, 0.63157895, 0.64473684, 0.65789474])"
      ]
     },
     "execution_count": 29,
     "metadata": {},
     "output_type": "execute_result"
    }
   ],
   "source": [
    "cv_results['test_score'] "
   ]
  },
  {
   "cell_type": "code",
   "execution_count": 30,
   "metadata": {},
   "outputs": [
    {
     "name": "stderr",
     "output_type": "stream",
     "text": [
      "/home/jonathan/anaconda3/lib/python3.6/site-packages/sklearn/utils/deprecation.py:122: FutureWarning: You are accessing a training score ('train_score'), which will not be available by default any more in 0.21. If you need training scores, please set return_train_score=True\n",
      "  warnings.warn(*warn_args, **warn_kwargs)\n"
     ]
    },
    {
     "data": {
      "text/plain": [
       "array([0.65789474, 0.70163934, 0.70491803, 0.69180328, 0.69180328])"
      ]
     },
     "execution_count": 30,
     "metadata": {},
     "output_type": "execute_result"
    }
   ],
   "source": [
    "cv_results['train_score'] "
   ]
  },
  {
   "cell_type": "code",
   "execution_count": 11,
   "metadata": {},
   "outputs": [],
   "source": [
    "cv_scores = cross_val_score(model, x_test, y_test,cv=5,scoring='accuracy')"
   ]
  },
  {
   "cell_type": "code",
   "execution_count": 12,
   "metadata": {},
   "outputs": [
    {
     "data": {
      "text/plain": [
       "array([0.76923077, 0.53846154, 0.5       , 0.58333333, 0.625     ])"
      ]
     },
     "execution_count": 12,
     "metadata": {},
     "output_type": "execute_result"
    }
   ],
   "source": [
    "cv_scores"
   ]
  },
  {
   "cell_type": "code",
   "execution_count": null,
   "metadata": {},
   "outputs": [],
   "source": []
  },
  {
   "cell_type": "code",
   "execution_count": null,
   "metadata": {},
   "outputs": [],
   "source": []
  }
 ],
 "metadata": {
  "kernelspec": {
   "display_name": "Python 3",
   "language": "python",
   "name": "python3"
  },
  "language_info": {
   "codemirror_mode": {
    "name": "ipython",
    "version": 3
   },
   "file_extension": ".py",
   "mimetype": "text/x-python",
   "name": "python",
   "nbconvert_exporter": "python",
   "pygments_lexer": "ipython3",
   "version": "3.6.5"
  }
 },
 "nbformat": 4,
 "nbformat_minor": 2
}
