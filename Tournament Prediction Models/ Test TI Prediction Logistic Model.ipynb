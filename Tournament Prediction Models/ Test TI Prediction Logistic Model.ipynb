{
 "cells": [
  {
   "cell_type": "code",
   "execution_count": 2,
   "metadata": {},
   "outputs": [],
   "source": [
    "import pprint\n",
    "import pandas as pd\n",
    "import numpy as np\n",
    "from sklearn.linear_model import LogisticRegression\n",
    "from sklearn.model_selection import train_test_split\n",
    "from sklearn.metrics import accuracy_score , confusion_matrix\n",
    "from sklearn.metrics import log_loss, make_scorer\n",
    "\n",
    "\n"
   ]
  },
  {
   "cell_type": "code",
   "execution_count": 22,
   "metadata": {},
   "outputs": [],
   "source": [
    "matchup_data = pd.read_csv(\"data/matchup_data.csv\")\n",
    "ti_matchup_data=pd.read_csv('data/ti_matchup_data.csv')\n",
    "\n",
    "X=ti_matchup_data[['diff_assists', 'diff_denies', 'diff_first_blood', 'diff_gpm', 'diff_healing', 'diff_hero_damage', 'diff_kills', 'diff_last_hits', 'diff_match_duration', 'diff_total_levels', 'diff_tower_damage', 'diff_xpm']]\n",
    "y=ti_matchup_data.radiant_winner\n",
    "\n",
    "\n",
    "x_data = matchup_data[['diff_assists', 'diff_denies', 'diff_first_blood', 'diff_gpm', 'diff_healing', 'diff_hero_damage', 'diff_kills', 'diff_last_hits', 'diff_match_duration', 'diff_total_levels', 'diff_tower_damage', 'diff_xpm']]\n",
    "y_data = matchup_data.radiant_winner\n",
    "\n",
    "\n",
    "model = LogisticRegression()\n",
    "model.fit(x_data, y_data)\n",
    "prediction = dict()\n",
    "prediction['Logistic'] = model.predict(X)\n"
   ]
  },
  {
   "cell_type": "code",
   "execution_count": 25,
   "metadata": {},
   "outputs": [
    {
     "name": "stdout",
     "output_type": "stream",
     "text": [
      "log loss = 0.5361969994848196\n",
      "accuracy = 0.6666666666666666\n"
     ]
    }
   ],
   "source": [
    "prob= model.predict_proba(X)\n",
    "\n",
    "print(f\"log loss = {log_loss(y, model.predict_proba(X)[:, 1])}\")\n",
    "print(f\"accuracy = {model.score(X, y)}\")\n"
   ]
  },
  {
   "cell_type": "code",
   "execution_count": 26,
   "metadata": {},
   "outputs": [
    {
     "data": {
      "text/plain": [
       "array([[0.6947559 , 0.3052441 ],\n",
       "       [0.25910226, 0.74089774],\n",
       "       [0.22310261, 0.77689739],\n",
       "       [0.73487236, 0.26512764],\n",
       "       [0.02680945, 0.97319055],\n",
       "       [0.96654849, 0.03345151],\n",
       "       [0.13379251, 0.86620749],\n",
       "       [0.13379251, 0.86620749],\n",
       "       [0.93689351, 0.06310649],\n",
       "       [0.05088619, 0.94911381],\n",
       "       [0.33853313, 0.66146687],\n",
       "       [0.33853313, 0.66146687],\n",
       "       [0.60865139, 0.39134861],\n",
       "       [0.9122776 , 0.0877224 ],\n",
       "       [0.9122776 , 0.0877224 ],\n",
       "       [0.54442937, 0.45557063],\n",
       "       [0.39978082, 0.60021918],\n",
       "       [0.54442937, 0.45557063],\n",
       "       [0.37816392, 0.62183608],\n",
       "       [0.37816392, 0.62183608],\n",
       "       [0.56688612, 0.43311388],\n",
       "       [0.59272071, 0.40727929],\n",
       "       [0.59272071, 0.40727929],\n",
       "       [0.65214717, 0.34785283],\n",
       "       [0.29803308, 0.70196692],\n",
       "       [0.45007591, 0.54992409],\n",
       "       [0.45007591, 0.54992409],\n",
       "       [0.2577252 , 0.7422748 ],\n",
       "       [0.69627767, 0.30372233],\n",
       "       [0.69627767, 0.30372233],\n",
       "       [0.20850757, 0.79149243],\n",
       "       [0.20850757, 0.79149243],\n",
       "       [0.75434424, 0.24565576],\n",
       "       [0.20585262, 0.79414738],\n",
       "       [0.69627767, 0.30372233],\n",
       "       [0.2577252 , 0.7422748 ],\n",
       "       [0.69627767, 0.30372233],\n",
       "       [0.2577252 , 0.7422748 ],\n",
       "       [0.2577252 , 0.7422748 ]])"
      ]
     },
     "execution_count": 26,
     "metadata": {},
     "output_type": "execute_result"
    }
   ],
   "source": [
    "prob"
   ]
  },
  {
   "cell_type": "code",
   "execution_count": 27,
   "metadata": {},
   "outputs": [
    {
     "data": {
      "text/plain": [
       "array([[ 4.34251734e-03, -1.08212249e-02, -3.18111794e-03,\n",
       "         3.07594717e-03, -3.04132897e-06,  4.56935435e-06,\n",
       "         4.06767359e-02,  5.45019981e-04, -1.79910118e-03,\n",
       "        -1.40146027e-02,  1.76887116e-04, -1.92211571e-05]])"
      ]
     },
     "execution_count": 27,
     "metadata": {},
     "output_type": "execute_result"
    }
   ],
   "source": [
    "model.coef_"
   ]
  },
  {
   "cell_type": "code",
   "execution_count": 11,
   "metadata": {},
   "outputs": [],
   "source": [
    "\n",
    "from sklearn.model_selection import cross_validate\n",
    "from sklearn.metrics import confusion_matrix\n",
    "from sklearn.model_selection import cross_val_score\n",
    "from sklearn.metrics import mean_squared_error\n"
   ]
  },
  {
   "cell_type": "code",
   "execution_count": null,
   "metadata": {},
   "outputs": [],
   "source": []
  },
  {
   "cell_type": "code",
   "execution_count": 30,
   "metadata": {},
   "outputs": [],
   "source": [
    "cv_results = cross_validate(model, x_data, y_data,cv=5,scoring='accuracy')"
   ]
  },
  {
   "cell_type": "code",
   "execution_count": 31,
   "metadata": {},
   "outputs": [
    {
     "data": {
      "text/plain": [
       "['fit_time', 'score_time', 'test_score', 'train_score']"
      ]
     },
     "execution_count": 31,
     "metadata": {},
     "output_type": "execute_result"
    }
   ],
   "source": [
    "sorted(cv_results.keys()) "
   ]
  },
  {
   "cell_type": "code",
   "execution_count": 32,
   "metadata": {},
   "outputs": [
    {
     "data": {
      "text/plain": [
       "array([0.61038961, 0.64473684, 0.63157895, 0.64473684, 0.65789474])"
      ]
     },
     "execution_count": 32,
     "metadata": {},
     "output_type": "execute_result"
    }
   ],
   "source": [
    "cv_results['test_score'] "
   ]
  },
  {
   "cell_type": "code",
   "execution_count": 33,
   "metadata": {},
   "outputs": [
    {
     "name": "stderr",
     "output_type": "stream",
     "text": [
      "/home/jonathan/anaconda3/lib/python3.6/site-packages/sklearn/utils/deprecation.py:122: FutureWarning: You are accessing a training score ('train_score'), which will not be available by default any more in 0.21. If you need training scores, please set return_train_score=True\n",
      "  warnings.warn(*warn_args, **warn_kwargs)\n"
     ]
    },
    {
     "data": {
      "text/plain": [
       "array([0.65789474, 0.70163934, 0.70491803, 0.69180328, 0.69180328])"
      ]
     },
     "execution_count": 33,
     "metadata": {},
     "output_type": "execute_result"
    }
   ],
   "source": [
    "cv_results['train_score'] "
   ]
  },
  {
   "cell_type": "code",
   "execution_count": 34,
   "metadata": {},
   "outputs": [],
   "source": [
    "cv_scores = cross_val_score(model, X, y,cv=5,scoring='accuracy')"
   ]
  },
  {
   "cell_type": "code",
   "execution_count": 36,
   "metadata": {},
   "outputs": [
    {
     "data": {
      "text/plain": [
       "0.584920634920635"
      ]
     },
     "execution_count": 36,
     "metadata": {},
     "output_type": "execute_result"
    }
   ],
   "source": [
    "cv_scores.mean()"
   ]
  },
  {
   "cell_type": "code",
   "execution_count": null,
   "metadata": {},
   "outputs": [],
   "source": []
  },
  {
   "cell_type": "code",
   "execution_count": null,
   "metadata": {},
   "outputs": [],
   "source": []
  }
 ],
 "metadata": {
  "kernelspec": {
   "display_name": "Python 3",
   "language": "python",
   "name": "python3"
  },
  "language_info": {
   "codemirror_mode": {
    "name": "ipython",
    "version": 3
   },
   "file_extension": ".py",
   "mimetype": "text/x-python",
   "name": "python",
   "nbconvert_exporter": "python",
   "pygments_lexer": "ipython3",
   "version": "3.6.5"
  }
 },
 "nbformat": 4,
 "nbformat_minor": 2
}
