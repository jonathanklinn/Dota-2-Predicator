{
 "cells": [
  {
   "cell_type": "code",
   "execution_count": 2,
   "metadata": {},
   "outputs": [],
   "source": [
    "import pprint\n",
    "import pandas as pd\n",
    "import numpy as np\n",
    "from sklearn.linear_model import LogisticRegression\n",
    "from sklearn.model_selection import train_test_split\n",
    "from sklearn.metrics import accuracy_score , confusion_matrix\n",
    "\n",
    "\n"
   ]
  },
  {
   "cell_type": "code",
   "execution_count": 7,
   "metadata": {},
   "outputs": [
    {
     "name": "stdout",
     "output_type": "stream",
     "text": [
      "Log:  0.6333333333333333\n",
      "[[-1.80441987e-02 -2.43455877e-02 -7.50670871e-03  1.09857352e-04\n",
      "  -8.74557033e-05 -2.51723574e-05  1.27777731e-02 -6.45993469e-03\n",
      "  -3.08799363e-03  2.89245533e-01  3.86533828e-04 -3.92267432e-03]]\n",
      "Logist \r",
      " [[13  8]\n",
      " [14 25]]\n"
     ]
    }
   ],
   "source": [
    "matchup_data = pd.read_csv(\"data/matchup_data.csv\")\n",
    "\n",
    "x_data = matchup_data[['diff_assists', 'diff_denies', 'diff_first_blood', 'diff_gpm', 'diff_healing', 'diff_hero_damage', 'diff_kills', 'diff_last_hits', 'diff_match_duration', 'diff_total_levels', 'diff_tower_damage', 'diff_xpm']]\n",
    "y_data = matchup_data.radiant_winner\n",
    "\n",
    "x_train, x_test, y_train, y_test = train_test_split(x_data, y_data, test_size = 0.33, random_state = 12)\n",
    "model = LogisticRegression()\n",
    "model.fit(x_train, y_train)\n",
    "prediction = dict()\n",
    "prediction['Logistic'] = model.predict(x_test)\n",
    "\n",
    "print('Log: ',accuracy_score(y_test, prediction['Logistic']))\n",
    "print(model.coef_)\n",
    "\n",
    "conf_mat_logist = confusion_matrix(y_test, prediction['Logistic'])\n",
    "print('Logist \\r', conf_mat_logist)"
   ]
  },
  {
   "cell_type": "code",
   "execution_count": 11,
   "metadata": {},
   "outputs": [
    {
     "data": {
      "text/plain": [
       "0.7058823529411765"
      ]
     },
     "execution_count": 11,
     "metadata": {},
     "output_type": "execute_result"
    }
   ],
   "source": [
    "prob= model.predict_proba(x_test)\n",
    "\n",
    "model.score(x_train , y_train)"
   ]
  },
  {
   "cell_type": "code",
   "execution_count": 12,
   "metadata": {},
   "outputs": [
    {
     "data": {
      "text/plain": [
       "array([[0.14527854, 0.85472146],\n",
       "       [0.85852076, 0.14147924],\n",
       "       [0.22872981, 0.77127019],\n",
       "       [0.50694686, 0.49305314],\n",
       "       [0.16593535, 0.83406465],\n",
       "       [0.50694686, 0.49305314],\n",
       "       [0.50750189, 0.49249811],\n",
       "       [0.06998212, 0.93001788],\n",
       "       [0.50694686, 0.49305314],\n",
       "       [0.36984115, 0.63015885],\n",
       "       [0.60566071, 0.39433929],\n",
       "       [0.56943971, 0.43056029],\n",
       "       [0.34804717, 0.65195283],\n",
       "       [0.23001715, 0.76998285],\n",
       "       [0.56564491, 0.43435509],\n",
       "       [0.36876609, 0.63123391],\n",
       "       [0.15905554, 0.84094446],\n",
       "       [0.9162923 , 0.0837077 ],\n",
       "       [0.60742667, 0.39257333],\n",
       "       [0.34654666, 0.65345334],\n",
       "       [0.50694686, 0.49305314],\n",
       "       [0.40339974, 0.59660026],\n",
       "       [0.36417406, 0.63582594],\n",
       "       [0.16562824, 0.83437176],\n",
       "       [0.46575   , 0.53425   ],\n",
       "       [0.38534516, 0.61465484],\n",
       "       [0.44423618, 0.55576382],\n",
       "       [0.36798707, 0.63201293],\n",
       "       [0.50694686, 0.49305314],\n",
       "       [0.52616358, 0.47383642],\n",
       "       [0.72310703, 0.27689297],\n",
       "       [0.54862619, 0.45137381],\n",
       "       [0.46575   , 0.53425   ],\n",
       "       [0.36984115, 0.63015885],\n",
       "       [0.50694686, 0.49305314],\n",
       "       [0.72310703, 0.27689297],\n",
       "       [0.64859553, 0.35140447],\n",
       "       [0.15905554, 0.84094446],\n",
       "       [0.15113268, 0.84886732],\n",
       "       [0.1556036 , 0.8443964 ],\n",
       "       [0.50694686, 0.49305314],\n",
       "       [0.40643829, 0.59356171],\n",
       "       [0.86148765, 0.13851235],\n",
       "       [0.40590269, 0.59409731],\n",
       "       [0.89598486, 0.10401514],\n",
       "       [0.54828972, 0.45171028],\n",
       "       [0.36049108, 0.63950892],\n",
       "       [0.46819294, 0.53180706],\n",
       "       [0.54317504, 0.45682496],\n",
       "       [0.31139453, 0.68860547],\n",
       "       [0.54616795, 0.45383205],\n",
       "       [0.36417406, 0.63582594],\n",
       "       [0.35270005, 0.64729995],\n",
       "       [0.1311591 , 0.8688409 ],\n",
       "       [0.56889085, 0.43110915],\n",
       "       [0.44642023, 0.55357977],\n",
       "       [0.40643829, 0.59356171],\n",
       "       [0.89619163, 0.10380837],\n",
       "       [0.66445536, 0.33554464],\n",
       "       [0.18400731, 0.81599269]])"
      ]
     },
     "execution_count": 12,
     "metadata": {},
     "output_type": "execute_result"
    }
   ],
   "source": [
    "prob"
   ]
  },
  {
   "cell_type": "code",
   "execution_count": 13,
   "metadata": {},
   "outputs": [
    {
     "data": {
      "text/plain": [
       "array([[-1.80441987e-02, -2.43455877e-02, -7.50670871e-03,\n",
       "         1.09857352e-04, -8.74557033e-05, -2.51723574e-05,\n",
       "         1.27777731e-02, -6.45993469e-03, -3.08799363e-03,\n",
       "         2.89245533e-01,  3.86533828e-04, -3.92267432e-03]])"
      ]
     },
     "execution_count": 13,
     "metadata": {},
     "output_type": "execute_result"
    }
   ],
   "source": [
    "model.coef_"
   ]
  },
  {
   "cell_type": "code",
   "execution_count": 19,
   "metadata": {},
   "outputs": [],
   "source": [
    "from sklearn import datasets, linear_model\n",
    "from sklearn.model_selection import cross_validate\n",
    "from sklearn.metrics.scorer import make_scorer\n",
    "from sklearn.metrics import confusion_matrix\n",
    "from sklearn.svm import LinearSVC"
   ]
  },
  {
   "cell_type": "code",
   "execution_count": 20,
   "metadata": {},
   "outputs": [],
   "source": [
    "lasso = linear_model.Lasso()"
   ]
  },
  {
   "cell_type": "code",
   "execution_count": 21,
   "metadata": {},
   "outputs": [],
   "source": [
    "cv_results = cross_validate(lasso, x_test, y_test, return_train_score=False)"
   ]
  },
  {
   "cell_type": "code",
   "execution_count": 22,
   "metadata": {},
   "outputs": [
    {
     "data": {
      "text/plain": [
       "['fit_time', 'score_time', 'test_score']"
      ]
     },
     "execution_count": 22,
     "metadata": {},
     "output_type": "execute_result"
    }
   ],
   "source": [
    "sorted(cv_results.keys()) "
   ]
  },
  {
   "cell_type": "code",
   "execution_count": 24,
   "metadata": {},
   "outputs": [
    {
     "data": {
      "text/plain": [
       "array([0.29737329, 0.18194416, 0.09695652])"
      ]
     },
     "execution_count": 24,
     "metadata": {},
     "output_type": "execute_result"
    }
   ],
   "source": [
    "cv_results['test_score'] "
   ]
  },
  {
   "cell_type": "code",
   "execution_count": null,
   "metadata": {},
   "outputs": [],
   "source": []
  }
 ],
 "metadata": {
  "kernelspec": {
   "display_name": "Python 3",
   "language": "python",
   "name": "python3"
  },
  "language_info": {
   "codemirror_mode": {
    "name": "ipython",
    "version": 3
   },
   "file_extension": ".py",
   "mimetype": "text/x-python",
   "name": "python",
   "nbconvert_exporter": "python",
   "pygments_lexer": "ipython3",
   "version": "3.6.5"
  }
 },
 "nbformat": 4,
 "nbformat_minor": 2
}
