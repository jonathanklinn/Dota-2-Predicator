{
 "cells": [
  {
   "cell_type": "code",
   "execution_count": 39,
   "metadata": {},
   "outputs": [],
   "source": [
    "import pprint\n",
    "import pandas as pd\n",
    "import numpy as np\n",
    "from sklearn.linear_model import LogisticRegression\n",
    "from sklearn.model_selection import train_test_split\n",
    "from sklearn.metrics import accuracy_score , confusion_matrix\n",
    "\n",
    "import seaborn as sns\n",
    "\n",
    "\n",
    "\n"
   ]
  },
  {
   "cell_type": "code",
   "execution_count": 40,
   "metadata": {},
   "outputs": [
    {
     "data": {
      "text/plain": [
       "Index(['match_id', 'Radiant', 'Dire', 'radiant_assists', 'radiant_barracks',\n",
       "       'radiant_denies', 'radiant_gpm', 'radiant_healing',\n",
       "       'radiant_hero_damage', 'radiant_kills', 'radiant_last_hits',\n",
       "       'radiant_total_levels', 'radiant_tower_damage', 'radiant_tower_status',\n",
       "       'radiant_xpm', 'dire_assists', 'dire_barracks', 'dire_denies',\n",
       "       'dire_gpm', 'dire_healing', 'dire_hero_damage', 'dire_kills',\n",
       "       'dire_last_hits', 'dire_total_levels', 'dire_tower_damage',\n",
       "       'dire_tower_status', 'dire_xpm', 'first_blood', 'match_duration',\n",
       "       'radiant_winner'],\n",
       "      dtype='object')"
      ]
     },
     "execution_count": 40,
     "metadata": {},
     "output_type": "execute_result"
    }
   ],
   "source": [
    "pd.read_csv('data/full_data.csv')\n",
    "matchup_data =pd.read_csv('data/full_data.csv')\n",
    "matchup_data.columns"
   ]
  },
  {
   "cell_type": "code",
   "execution_count": 41,
   "metadata": {},
   "outputs": [
    {
     "name": "stdout",
     "output_type": "stream",
     "text": [
      "Log:  0.8666666666666667\n",
      "[[ 2.52273910e-01 -3.28212756e-02  1.01402049e-02 -4.98283863e-05\n",
      "  -1.18393973e-04  2.34098847e-01  7.67199785e-03 -4.85074037e-01\n",
      "   4.39796314e-03]]\n",
      "Logist \r",
      " [[20  1]\n",
      " [ 7 32]]\n"
     ]
    }
   ],
   "source": [
    "\n",
    "x_data = matchup_data[['radiant_assists',\n",
    "       'radiant_denies', 'radiant_gpm', 'radiant_healing',\n",
    "       'radiant_hero_damage', 'radiant_kills', 'radiant_last_hits',\n",
    "       'radiant_total_levels',\n",
    "       'radiant_xpm']]\n",
    "y_data = matchup_data.radiant_winner\n",
    "\n",
    "x_train, x_test, y_train, y_test = train_test_split(x_data, y_data, test_size = 0.33, random_state = 12)\n",
    "model = LogisticRegression()\n",
    "model.fit(x_train, y_train)\n",
    "prediction = dict()\n",
    "prediction['Logistic'] = model.predict(x_test)\n",
    "\n",
    "print('Log: ',accuracy_score(y_test, prediction['Logistic']))\n",
    "print(model.coef_)\n",
    "\n",
    "conf_mat_logist = confusion_matrix(y_test, prediction['Logistic'])\n",
    "print('Logist \\r', conf_mat_logist)"
   ]
  },
  {
   "cell_type": "code",
   "execution_count": 42,
   "metadata": {},
   "outputs": [
    {
     "data": {
      "text/plain": [
       "0.8666666666666667"
      ]
     },
     "execution_count": 42,
     "metadata": {},
     "output_type": "execute_result"
    }
   ],
   "source": [
    "accuracy_score(y_test, prediction['Logistic'])"
   ]
  },
  {
   "cell_type": "code",
   "execution_count": 46,
   "metadata": {},
   "outputs": [
    {
     "data": {
      "text/plain": [
       "array([[ 2.52273910e-01, -3.28212756e-02,  1.01402049e-02,\n",
       "        -4.98283863e-05, -1.18393973e-04,  2.34098847e-01,\n",
       "         7.67199785e-03, -4.85074037e-01,  4.39796314e-03]])"
      ]
     },
     "execution_count": 46,
     "metadata": {},
     "output_type": "execute_result"
    }
   ],
   "source": [
    "model.coef_"
   ]
  },
  {
   "cell_type": "code",
   "execution_count": null,
   "metadata": {},
   "outputs": [],
   "source": []
  },
  {
   "cell_type": "code",
   "execution_count": null,
   "metadata": {},
   "outputs": [],
   "source": []
  },
  {
   "cell_type": "code",
   "execution_count": null,
   "metadata": {},
   "outputs": [],
   "source": []
  }
 ],
 "metadata": {
  "kernelspec": {
   "display_name": "Python 3",
   "language": "python",
   "name": "python3"
  },
  "language_info": {
   "codemirror_mode": {
    "name": "ipython",
    "version": 3
   },
   "file_extension": ".py",
   "mimetype": "text/x-python",
   "name": "python",
   "nbconvert_exporter": "python",
   "pygments_lexer": "ipython3",
   "version": "3.6.5"
  }
 },
 "nbformat": 4,
 "nbformat_minor": 2
}
