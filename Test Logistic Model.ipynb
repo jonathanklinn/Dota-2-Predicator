{
 "cells": [
  {
   "cell_type": "code",
   "execution_count": 1,
   "metadata": {},
   "outputs": [],
   "source": [
    "import pprint\n",
    "import pandas as pd\n",
    "import numpy as np\n",
    "from sklearn.linear_model import LogisticRegression\n",
    "from sklearn.model_selection import train_test_split\n",
    "from sklearn.metrics import accuracy_score , confusion_matrix\n",
    "from sklearn.metrics import log_loss, make_scorer\n",
    "\n",
    "\n"
   ]
  },
  {
   "cell_type": "code",
   "execution_count": 2,
   "metadata": {},
   "outputs": [
    {
     "name": "stdout",
     "output_type": "stream",
     "text": [
      "Log:  0.6041666666666666\n",
      "[[ 1.67161896e-02 -8.32612473e-03 -7.90624329e-03  2.38332127e-03\n",
      "   7.88957403e-05 -4.06328909e-06  4.36164769e-02  4.41146979e-03\n",
      "  -4.18547597e-03  4.79588827e-02  2.21134372e-04 -3.00877147e-03]]\n",
      "Logist \r",
      " [[40 35]\n",
      " [22 47]]\n"
     ]
    }
   ],
   "source": [
    "matchup_data = pd.read_csv(\"data/matchup_data.csv\")\n",
    "\n",
    "x_data = matchup_data[['diff_assists', 'diff_denies', 'diff_first_blood', 'diff_gpm', 'diff_healing', 'diff_hero_damage', 'diff_kills', 'diff_last_hits', 'diff_match_duration', 'diff_total_levels', 'diff_tower_damage', 'diff_xpm']]\n",
    "y_data = matchup_data.radiant_winner\n",
    "\n",
    "x_train, x_test, y_train, y_test = train_test_split(x_data, y_data, test_size = 0.33, random_state = 14)\n",
    "model = LogisticRegression()\n",
    "model.fit(x_train, y_train)\n",
    "prediction = dict()\n",
    "prediction['Logistic'] = model.predict(x_test)\n",
    "\n",
    "print('Log: ',accuracy_score(y_test, prediction['Logistic']))\n",
    "print(model.coef_)\n",
    "\n",
    "conf_mat_logist = confusion_matrix(y_test, prediction['Logistic'])\n",
    "print('Logist \\r', conf_mat_logist)"
   ]
  },
  {
   "cell_type": "code",
   "execution_count": 3,
   "metadata": {},
   "outputs": [
    {
     "name": "stdout",
     "output_type": "stream",
     "text": [
      "log loss = 0.6455848469042932\n",
      "accuracy = 0.6041666666666666\n"
     ]
    }
   ],
   "source": [
    "prob= model.predict_proba(x_test)\n",
    "\n",
    "print(f\"log loss = {log_loss(y_test, model.predict_proba(x_test)[:, 1])}\")\n",
    "print(f\"accuracy = {model.score(x_test, y_test)}\")\n"
   ]
  },
  {
   "cell_type": "code",
   "execution_count": 4,
   "metadata": {},
   "outputs": [
    {
     "data": {
      "text/plain": [
       "array([[0.3141728 , 0.6858272 ],\n",
       "       [0.40570672, 0.59429328],\n",
       "       [0.79868372, 0.20131628],\n",
       "       [0.34887004, 0.65112996],\n",
       "       [0.80860278, 0.19139722],\n",
       "       [0.90192456, 0.09807544],\n",
       "       [0.43345912, 0.56654088],\n",
       "       [0.08844186, 0.91155814],\n",
       "       [0.25532326, 0.74467674],\n",
       "       [0.48148442, 0.51851558],\n",
       "       [0.29390444, 0.70609556],\n",
       "       [0.09834589, 0.90165411],\n",
       "       [0.44697748, 0.55302252],\n",
       "       [0.53492095, 0.46507905],\n",
       "       [0.16574163, 0.83425837],\n",
       "       [0.27982952, 0.72017048],\n",
       "       [0.48148442, 0.51851558],\n",
       "       [0.26695614, 0.73304386],\n",
       "       [0.81274113, 0.18725887],\n",
       "       [0.63930206, 0.36069794],\n",
       "       [0.70842662, 0.29157338],\n",
       "       [0.46499498, 0.53500502],\n",
       "       [0.62150064, 0.37849936],\n",
       "       [0.48148442, 0.51851558],\n",
       "       [0.67656787, 0.32343213],\n",
       "       [0.39294874, 0.60705126],\n",
       "       [0.26210561, 0.73789439],\n",
       "       [0.14394586, 0.85605414],\n",
       "       [0.17853859, 0.82146141],\n",
       "       [0.29390444, 0.70609556],\n",
       "       [0.22358526, 0.77641474],\n",
       "       [0.60697064, 0.39302936],\n",
       "       [0.43345912, 0.56654088],\n",
       "       [0.3232185 , 0.6767815 ],\n",
       "       [0.48148442, 0.51851558],\n",
       "       [0.30304419, 0.69695581],\n",
       "       [0.8623782 , 0.1376218 ],\n",
       "       [0.2534544 , 0.7465456 ],\n",
       "       [0.169639  , 0.830361  ],\n",
       "       [0.48148442, 0.51851558],\n",
       "       [0.36750345, 0.63249655],\n",
       "       [0.73546899, 0.26453101],\n",
       "       [0.71390046, 0.28609954],\n",
       "       [0.61627277, 0.38372723],\n",
       "       [0.29428723, 0.70571277],\n",
       "       [0.48148442, 0.51851558],\n",
       "       [0.56689591, 0.43310409],\n",
       "       [0.01966598, 0.98033402],\n",
       "       [0.40883568, 0.59116432],\n",
       "       [0.74383736, 0.25616264],\n",
       "       [0.54796649, 0.45203351],\n",
       "       [0.48148442, 0.51851558],\n",
       "       [0.60697064, 0.39302936],\n",
       "       [0.35829121, 0.64170879],\n",
       "       [0.53902431, 0.46097569],\n",
       "       [0.48148442, 0.51851558],\n",
       "       [0.38493407, 0.61506593],\n",
       "       [0.39714146, 0.60285854],\n",
       "       [0.57277147, 0.42722853],\n",
       "       [0.52237158, 0.47762842],\n",
       "       [0.8108986 , 0.1891014 ],\n",
       "       [0.51446121, 0.48553879],\n",
       "       [0.52237158, 0.47762842],\n",
       "       [0.93891574, 0.06108426],\n",
       "       [0.41391002, 0.58608998],\n",
       "       [0.68919294, 0.31080706],\n",
       "       [0.3141728 , 0.6858272 ],\n",
       "       [0.40597092, 0.59402908],\n",
       "       [0.67402789, 0.32597211],\n",
       "       [0.38929482, 0.61070518],\n",
       "       [0.39141693, 0.60858307],\n",
       "       [0.69265654, 0.30734346],\n",
       "       [0.1587062 , 0.8412938 ],\n",
       "       [0.05311774, 0.94688226],\n",
       "       [0.48148442, 0.51851558],\n",
       "       [0.87087044, 0.12912956],\n",
       "       [0.23277569, 0.76722431],\n",
       "       [0.54796649, 0.45203351],\n",
       "       [0.27998393, 0.72001607],\n",
       "       [0.91542349, 0.08457651],\n",
       "       [0.87077878, 0.12922122],\n",
       "       [0.58094201, 0.41905799],\n",
       "       [0.39294874, 0.60705126],\n",
       "       [0.57277147, 0.42722853],\n",
       "       [0.55515052, 0.44484948],\n",
       "       [0.14669874, 0.85330126],\n",
       "       [0.38108667, 0.61891333],\n",
       "       [0.48702008, 0.51297992],\n",
       "       [0.14012844, 0.85987156],\n",
       "       [0.74883463, 0.25116537],\n",
       "       [0.45655036, 0.54344964],\n",
       "       [0.53842512, 0.46157488],\n",
       "       [0.57495212, 0.42504788],\n",
       "       [0.58094201, 0.41905799],\n",
       "       [0.26210561, 0.73789439],\n",
       "       [0.60317185, 0.39682815],\n",
       "       [0.21937235, 0.78062765],\n",
       "       [0.68935701, 0.31064299],\n",
       "       [0.62150064, 0.37849936],\n",
       "       [0.34431694, 0.65568306],\n",
       "       [0.48148442, 0.51851558],\n",
       "       [0.92230587, 0.07769413],\n",
       "       [0.48148442, 0.51851558],\n",
       "       [0.52749417, 0.47250583],\n",
       "       [0.06643243, 0.93356757],\n",
       "       [0.63869601, 0.36130399],\n",
       "       [0.59742556, 0.40257444],\n",
       "       [0.69265654, 0.30734346],\n",
       "       [0.22433174, 0.77566826],\n",
       "       [0.20265324, 0.79734676],\n",
       "       [0.38347273, 0.61652727],\n",
       "       [0.44181928, 0.55818072],\n",
       "       [0.21256006, 0.78743994],\n",
       "       [0.59747757, 0.40252243],\n",
       "       [0.57495212, 0.42504788],\n",
       "       [0.62736519, 0.37263481],\n",
       "       [0.14924209, 0.85075791],\n",
       "       [0.48148442, 0.51851558],\n",
       "       [0.45655036, 0.54344964],\n",
       "       [0.48444748, 0.51555252],\n",
       "       [0.30620099, 0.69379901],\n",
       "       [0.2767259 , 0.7232741 ],\n",
       "       [0.84853651, 0.15146349],\n",
       "       [0.48148442, 0.51851558],\n",
       "       [0.67929051, 0.32070949],\n",
       "       [0.62150064, 0.37849936],\n",
       "       [0.80925989, 0.19074011],\n",
       "       [0.48148442, 0.51851558],\n",
       "       [0.56689591, 0.43310409],\n",
       "       [0.48148442, 0.51851558],\n",
       "       [0.59747757, 0.40252243],\n",
       "       [0.68935701, 0.31064299],\n",
       "       [0.2090549 , 0.7909451 ],\n",
       "       [0.311594  , 0.688406  ],\n",
       "       [0.51691233, 0.48308767],\n",
       "       [0.64966964, 0.35033036],\n",
       "       [0.23672084, 0.76327916],\n",
       "       [0.81274113, 0.18725887],\n",
       "       [0.3832543 , 0.6167457 ],\n",
       "       [0.3232185 , 0.6767815 ],\n",
       "       [0.52138431, 0.47861569],\n",
       "       [0.62073   , 0.37927   ],\n",
       "       [0.40381531, 0.59618469],\n",
       "       [0.48148442, 0.51851558]])"
      ]
     },
     "execution_count": 4,
     "metadata": {},
     "output_type": "execute_result"
    }
   ],
   "source": [
    "prob"
   ]
  },
  {
   "cell_type": "code",
   "execution_count": 5,
   "metadata": {},
   "outputs": [
    {
     "data": {
      "text/plain": [
       "array([[ 1.67161896e-02, -8.32612473e-03, -7.90624329e-03,\n",
       "         2.38332127e-03,  7.88957403e-05, -4.06328909e-06,\n",
       "         4.36164769e-02,  4.41146979e-03, -4.18547597e-03,\n",
       "         4.79588827e-02,  2.21134372e-04, -3.00877147e-03]])"
      ]
     },
     "execution_count": 5,
     "metadata": {},
     "output_type": "execute_result"
    }
   ],
   "source": [
    "model.coef_"
   ]
  },
  {
   "cell_type": "code",
   "execution_count": 46,
   "metadata": {},
   "outputs": [],
   "source": [
    "\n",
    "from sklearn.model_selection import cross_validate\n",
    "from sklearn.metrics import confusion_matrix\n",
    "from sklearn.model_selection import cross_val_score\n",
    "from sklearn.metrics import mean_squared_error\n"
   ]
  },
  {
   "cell_type": "code",
   "execution_count": null,
   "metadata": {},
   "outputs": [],
   "source": []
  },
  {
   "cell_type": "code",
   "execution_count": 47,
   "metadata": {},
   "outputs": [],
   "source": [
    "cv_results = cross_validate(model, x_data, y_data,cv=5,scoring='accuracy')"
   ]
  },
  {
   "cell_type": "code",
   "execution_count": 48,
   "metadata": {},
   "outputs": [
    {
     "data": {
      "text/plain": [
       "['fit_time', 'score_time', 'test_score', 'train_score']"
      ]
     },
     "execution_count": 48,
     "metadata": {},
     "output_type": "execute_result"
    }
   ],
   "source": [
    "sorted(cv_results.keys()) "
   ]
  },
  {
   "cell_type": "code",
   "execution_count": 54,
   "metadata": {},
   "outputs": [
    {
     "data": {
      "text/plain": [
       "array([0.61363636, 0.59090909, 0.64367816, 0.59302326, 0.53488372])"
      ]
     },
     "execution_count": 54,
     "metadata": {},
     "output_type": "execute_result"
    }
   ],
   "source": [
    "cv_results['test_score'] "
   ]
  },
  {
   "cell_type": "code",
   "execution_count": 55,
   "metadata": {},
   "outputs": [
    {
     "name": "stderr",
     "output_type": "stream",
     "text": [
      "/home/jonathan/anaconda3/lib/python3.6/site-packages/sklearn/utils/deprecation.py:122: FutureWarning: You are accessing a training score ('train_score'), which will not be available by default any more in 0.21. If you need training scores, please set return_train_score=True\n",
      "  warnings.warn(*warn_args, **warn_kwargs)\n"
     ]
    },
    {
     "data": {
      "text/plain": [
       "array([0.6426513 , 0.64553314, 0.62068966, 0.62750716, 0.6504298 ])"
      ]
     },
     "execution_count": 55,
     "metadata": {},
     "output_type": "execute_result"
    }
   ],
   "source": [
    "cv_results['train_score'] "
   ]
  },
  {
   "cell_type": "code",
   "execution_count": 53,
   "metadata": {},
   "outputs": [],
   "source": [
    "cv_scores = cross_val_score(model, x_test, y_test,cv=5,scoring='accuracy')"
   ]
  },
  {
   "cell_type": "code",
   "execution_count": 51,
   "metadata": {},
   "outputs": [
    {
     "data": {
      "text/plain": [
       "array([0.48275862, 0.55172414, 0.51724138, 0.68965517, 0.60714286])"
      ]
     },
     "execution_count": 51,
     "metadata": {},
     "output_type": "execute_result"
    }
   ],
   "source": [
    "cv_scores"
   ]
  },
  {
   "cell_type": "code",
   "execution_count": null,
   "metadata": {},
   "outputs": [],
   "source": []
  }
 ],
 "metadata": {
  "kernelspec": {
   "display_name": "Python 3",
   "language": "python",
   "name": "python3"
  },
  "language_info": {
   "codemirror_mode": {
    "name": "ipython",
    "version": 3
   },
   "file_extension": ".py",
   "mimetype": "text/x-python",
   "name": "python",
   "nbconvert_exporter": "python",
   "pygments_lexer": "ipython3",
   "version": "3.6.5"
  }
 },
 "nbformat": 4,
 "nbformat_minor": 2
}
