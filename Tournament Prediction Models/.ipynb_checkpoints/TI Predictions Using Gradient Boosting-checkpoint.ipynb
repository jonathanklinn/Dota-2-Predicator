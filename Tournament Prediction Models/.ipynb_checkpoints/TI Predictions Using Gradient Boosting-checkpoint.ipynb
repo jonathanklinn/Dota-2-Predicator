{
 "cells": [
  {
   "cell_type": "code",
   "execution_count": 2,
   "metadata": {},
   "outputs": [],
   "source": [
    "import pandas as pd\n",
    "import numpy as np\n",
    "import datetime\n",
    "\n",
    "%matplotlib inline\n",
    "import matplotlib.pyplot as plt\n",
    "plt.style.use('ggplot')\n",
    "\n",
    "\n",
    "from pandas.plotting import scatter_matrix\n",
    "\n",
    "\n",
    "from sklearn.linear_model import LogisticRegression\n",
    "from sklearn.tree import DecisionTreeClassifier\n",
    "from sklearn.ensemble import RandomForestClassifier, GradientBoostingClassifier\n",
    "from sklearn.model_selection import cross_val_score, GridSearchCV\n",
    "from sklearn.metrics import r2_score, log_loss\n",
    "from sklearn.model_selection import KFold\n",
    "from sklearn.model_selection import train_test_split\n",
    "from sklearn.model_selection import cross_val_score\n",
    "from sklearn.neighbors import KNeighborsClassifier\n",
    "\n",
    "\n",
    "\n",
    "from sklearn.metrics import accuracy_score , confusion_matrix\n",
    "from sklearn.metrics import log_loss, make_scorer\n",
    "\n",
    "\n",
    "\n",
    "\n",
    "from sklearn.pipeline import Pipeline\n",
    "from regression_tools.dftransformers import (\n",
    "    ColumnSelector, Identity,\n",
    "    FeatureUnion, MapFeature,\n",
    "    StandardScaler)\n"
   ]
  },
  {
   "cell_type": "code",
   "execution_count": 3,
   "metadata": {},
   "outputs": [],
   "source": [
    "matchup_data = pd.read_csv(\"data/matchup_data.csv\")\n",
    "ti_matchup_data=pd.read_csv('data/ti_matchup_data.csv')\n",
    "\n",
    "X=ti_matchup_data[['diff_assists', 'diff_denies', 'diff_first_blood', 'diff_gpm', 'diff_healing', 'diff_hero_damage', 'diff_kills', 'diff_last_hits', 'diff_match_duration', 'diff_total_levels', 'diff_tower_damage', 'diff_xpm']]\n",
    "y=ti_matchup_data.radiant_winner\n",
    "\n",
    "\n",
    "x_data = matchup_data[['diff_assists', 'diff_denies', 'diff_first_blood', 'diff_gpm', 'diff_healing', 'diff_hero_damage', 'diff_kills', 'diff_last_hits', 'diff_match_duration', 'diff_total_levels', 'diff_tower_damage', 'diff_xpm']]\n",
    "y_data = matchup_data.radiant_winner\n"
   ]
  },
  {
   "cell_type": "code",
   "execution_count": null,
   "metadata": {},
   "outputs": [],
   "source": []
  },
  {
   "cell_type": "code",
   "execution_count": null,
   "metadata": {},
   "outputs": [],
   "source": []
  },
  {
   "cell_type": "code",
   "execution_count": 4,
   "metadata": {},
   "outputs": [
    {
     "name": "stdout",
     "output_type": "stream",
     "text": [
      "Model: Best RandomForestClassifier\tTestCV\tAccuracy_train:0.795774647887324\tAccuracy_test:0.5641025641025641\n"
     ]
    }
   ],
   "source": [
    "best_rf = RandomForestClassifier(max_depth=None, max_features='sqrt',\n",
    "                                min_samples_split=2, min_samples_leaf=10,\n",
    "                                bootstrap=True, n_estimators=1000,\n",
    "                                n_jobs=-1, random_state=1)\n",
    "\n",
    "best_rf.fit(x_data, y_data)\n",
    "\n",
    "train_predicted = best_rf.predict(x_data)\n",
    "test_predicted = best_rf.predict(X)\n",
    "\n",
    "best_rf_train, best_rf_test =accuracy_score(y_data, train_predicted), accuracy_score(y, test_predicted)\n",
    "print(f\"Model: Best RandomForestClassifier\\tTestCV\\tAccuracy_train:{best_rf_train}\\tAccuracy_test:{best_rf_test}\")"
   ]
  },
  {
   "cell_type": "code",
   "execution_count": 5,
   "metadata": {},
   "outputs": [
    {
     "name": "stdout",
     "output_type": "stream",
     "text": [
      "Model: Best GradientBoostingClassifier\tTestCV\tAccuracy_train:0.8309859154929577\tAccuracy_test:0.6410256410256411\n"
     ]
    }
   ],
   "source": [
    "best_gdbc = GradientBoostingClassifier(max_depth= None, max_features='sqrt',\n",
    "                                        min_samples_leaf=10,\n",
    "                                        n_estimators=1000,\n",
    "                                        random_state=1)\n",
    "best_gdbc.fit(x_data, y_data)\n",
    "\n",
    "# Call predict to get the predicted values for training and test set\n",
    "train_predicted = best_gdbc.predict(x_data)\n",
    "test_predicted = best_gdbc.predict(X)\n",
    "\n",
    "# log-loss score calcs for training and test\n",
    "best_gdbc_train = accuracy_score(y_data, train_predicted)\n",
    "best_gdbc_test = accuracy_score(y, test_predicted)\n",
    "print(f\"Model: Best GradientBoostingClassifier\\tTestCV\\tAccuracy_train:{best_gdbc_train}\\tAccuracy_test:{best_gdbc_test}\")"
   ]
  },
  {
   "cell_type": "code",
   "execution_count": 8,
   "metadata": {},
   "outputs": [
    {
     "data": {
      "text/plain": [
       "<matplotlib.axes._subplots.AxesSubplot at 0x7f169935e828>"
      ]
     },
     "execution_count": 8,
     "metadata": {},
     "output_type": "execute_result"
    },
    {
     "data": {
      "image/png": "[encoded data removed]",
      "text/plain": [
       "<Figure size 432x288 with 1 Axes>"
      ]
     },
     "metadata": {},
     "output_type": "display_data"
    }
   ],
   "source": [
    "feat_scores = pd.DataFrame({'Fraction of Samples Affected' : best_gdbc.feature_importances_},\n",
    "                           index=x_data.columns)\n",
    "feat_scores = feat_scores.sort_values(by='Fraction of Samples Affected')\n",
    "feat_scores.plot(kind='barh')"
   ]
  },
  {
   "cell_type": "code",
   "execution_count": 16,
   "metadata": {},
   "outputs": [],
   "source": [
    "#first 90 days of averages to predict the last 39 games of the tournament.\n",
    "\n",
    "#got 64% accuracy"
   ]
  },
  {
   "cell_type": "code",
   "execution_count": null,
   "metadata": {},
   "outputs": [],
   "source": [
    "#Model predicted that Team OG had the upper hand in the finals so it predicted that the OG would win ALL 5 games. OG won 3 of the 5 leading them to win the series."
   ]
  },
  {
   "cell_type": "code",
   "execution_count": 20,
   "metadata": {},
   "outputs": [
    {
     "data": {
      "text/plain": [
       "0     0\n",
       "1     1\n",
       "2     1\n",
       "3     0\n",
       "4     1\n",
       "5     0\n",
       "6     1\n",
       "7     1\n",
       "8     0\n",
       "9     1\n",
       "10    0\n",
       "11    1\n",
       "12    0\n",
       "13    0\n",
       "14    0\n",
       "15    0\n",
       "16    0\n",
       "17    0\n",
       "18    1\n",
       "19    0\n",
       "20    1\n",
       "21    1\n",
       "22    1\n",
       "23    0\n",
       "24    1\n",
       "25    0\n",
       "26    0\n",
       "27    0\n",
       "28    0\n",
       "29    1\n",
       "30    1\n",
       "31    1\n",
       "32    0\n",
       "33    1\n",
       "34    1\n",
       "35    1\n",
       "36    0\n",
       "37    0\n",
       "38    0\n",
       "Name: radiant_winner, dtype: int64"
      ]
     },
     "execution_count": 20,
     "metadata": {},
     "output_type": "execute_result"
    }
   ],
   "source": [
    "y.shape"
   ]
  },
  {
   "cell_type": "code",
   "execution_count": 23,
   "metadata": {},
   "outputs": [
    {
     "data": {
      "text/plain": [
       "array([0, 1, 0, 0, 1, 0, 0, 0, 0, 1, 1, 1, 0, 0, 0, 0, 1, 0, 0, 0, 0, 1,\n",
       "       1, 0, 1, 1, 1, 0, 0, 0, 0, 0, 0, 1, 0, 0, 0, 0, 0])"
      ]
     },
     "execution_count": 23,
     "metadata": {},
     "output_type": "execute_result"
    }
   ],
   "source": [
    "test_predicted"
   ]
  },
  {
   "cell_type": "code",
   "execution_count": null,
   "metadata": {},
   "outputs": [],
   "source": []
  }
 ],
 "metadata": {
  "kernelspec": {
   "display_name": "Python 3",
   "language": "python",
   "name": "python3"
  },
  "language_info": {
   "codemirror_mode": {
    "name": "ipython",
    "version": 3
   },
   "file_extension": ".py",
   "mimetype": "text/x-python",
   "name": "python",
   "nbconvert_exporter": "python",
   "pygments_lexer": "ipython3",
   "version": "3.6.5"
  }
 },
 "nbformat": 4,
 "nbformat_minor": 2
}
